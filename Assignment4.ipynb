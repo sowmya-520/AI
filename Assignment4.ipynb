{
  "nbformat": 4,
  "nbformat_minor": 0,
  "metadata": {
    "colab": {
      "name": "Assignment4.ipynb",
      "provenance": [],
      "collapsed_sections": [],
      "authorship_tag": "ABX9TyNFwPDIIQ+ER6wMXtoUmn1H",
      "include_colab_link": true
    },
    "kernelspec": {
      "display_name": "Python 3",
      "name": "python3"
    },
    "language_info": {
      "name": "python"
    }
  },
  "cells": [
    {
      "cell_type": "markdown",
      "metadata": {
        "id": "view-in-github",
        "colab_type": "text"
      },
      "source": [
        "<a href=\"https://colab.research.google.com/github/sowmya-520/AI/blob/main/Assignment4.ipynb\" target=\"_parent\"><img src=\"https://colab.research.google.com/assets/colab-badge.svg\" alt=\"Open In Colab\"/></a>"
      ]
    },
    {
      "cell_type": "markdown",
      "metadata": {
        "id": "9BpfjS9iCSmb"
      },
      "source": [
        "***Assignment-4***\n",
        "\n",
        "Estimate the bicarbonates of well water based on its pH value using simple regression model. Consider SGD optimizer. Dataset: Union Carbide Technical Report\n",
        "*   Do the manual calculation for two iteration by taking only first two samples in the dataset.Write the python code to build simple linear regression model using SGD optimizer\n",
        "*   Do the data normalization\n",
        "*   Split the data for train and test (90:10)\n",
        "*   Train the simple linear regression model using SGD\n",
        "*   Compute MSE, RMSE and MAE with training data and Training Data.\n"
      ]
    },
    {
      "cell_type": "markdown",
      "metadata": {
        "id": "kAMV8xkECVVk"
      },
      "source": [
        "**Mount Google Drive**"
      ]
    },
    {
      "cell_type": "code",
      "metadata": {
        "colab": {
          "base_uri": "https://localhost:8080/"
        },
        "id": "--S5ITBJq3ks",
        "outputId": "1393c601-8131-4027-ce8f-f66485ffda7b"
      },
      "source": [
        "from google.colab import drive\n",
        "drive.mount('/content/drive')"
      ],
      "execution_count": 55,
      "outputs": [
        {
          "output_type": "stream",
          "name": "stdout",
          "text": [
            "Drive already mounted at /content/drive; to attempt to forcibly remount, call drive.mount(\"/content/drive\", force_remount=True).\n"
          ]
        }
      ]
    },
    {
      "cell_type": "markdown",
      "metadata": {
        "id": "6Pkz-VH4q2-z"
      },
      "source": [
        "**Importing libraries**"
      ]
    },
    {
      "cell_type": "code",
      "metadata": {
        "id": "g0qeXgw8VGn8"
      },
      "source": [
        "import numpy as np\n",
        "import random\n",
        "import pandas as pd\n",
        "import math\n",
        "from sklearn.metrics import mean_squared_error \n",
        "from sklearn.metrics import mean_absolute_error\n",
        "from sklearn import metrics\n",
        "import matplotlib.pyplot as plt"
      ],
      "execution_count": 56,
      "outputs": []
    },
    {
      "cell_type": "markdown",
      "metadata": {
        "id": "Iwn9N9bqtJpM"
      },
      "source": [
        "**Load Data**"
      ]
    },
    {
      "cell_type": "code",
      "metadata": {
        "colab": {
          "base_uri": "https://localhost:8080/",
          "height": 204
        },
        "id": "80IBHg3CWObh",
        "outputId": "41f2d261-e78e-4aef-8201-25d3f692cff7"
      },
      "source": [
        "data = pd.read_csv('/content/drive/MyDrive/slr09 (2).csv')\n",
        "data.head()"
      ],
      "execution_count": 57,
      "outputs": [
        {
          "output_type": "execute_result",
          "data": {
            "text/html": [
              "<div>\n",
              "<style scoped>\n",
              "    .dataframe tbody tr th:only-of-type {\n",
              "        vertical-align: middle;\n",
              "    }\n",
              "\n",
              "    .dataframe tbody tr th {\n",
              "        vertical-align: top;\n",
              "    }\n",
              "\n",
              "    .dataframe thead th {\n",
              "        text-align: right;\n",
              "    }\n",
              "</style>\n",
              "<table border=\"1\" class=\"dataframe\">\n",
              "  <thead>\n",
              "    <tr style=\"text-align: right;\">\n",
              "      <th></th>\n",
              "      <th>X</th>\n",
              "      <th>Y</th>\n",
              "    </tr>\n",
              "  </thead>\n",
              "  <tbody>\n",
              "    <tr>\n",
              "      <th>0</th>\n",
              "      <td>7.6</td>\n",
              "      <td>157</td>\n",
              "    </tr>\n",
              "    <tr>\n",
              "      <th>1</th>\n",
              "      <td>7.1</td>\n",
              "      <td>174</td>\n",
              "    </tr>\n",
              "    <tr>\n",
              "      <th>2</th>\n",
              "      <td>8.2</td>\n",
              "      <td>175</td>\n",
              "    </tr>\n",
              "    <tr>\n",
              "      <th>3</th>\n",
              "      <td>7.5</td>\n",
              "      <td>188</td>\n",
              "    </tr>\n",
              "    <tr>\n",
              "      <th>4</th>\n",
              "      <td>7.4</td>\n",
              "      <td>171</td>\n",
              "    </tr>\n",
              "  </tbody>\n",
              "</table>\n",
              "</div>"
            ],
            "text/plain": [
              "     X    Y\n",
              "0  7.6  157\n",
              "1  7.1  174\n",
              "2  8.2  175\n",
              "3  7.5  188\n",
              "4  7.4  171"
            ]
          },
          "metadata": {},
          "execution_count": 57
        }
      ]
    },
    {
      "cell_type": "markdown",
      "metadata": {
        "id": "d9eLA7IYqx_Q"
      },
      "source": [
        "**Missing Values Treatement**"
      ]
    },
    {
      "cell_type": "code",
      "metadata": {
        "id": "zFxOJeMeqvm3",
        "colab": {
          "base_uri": "https://localhost:8080/"
        },
        "outputId": "3d7a34a8-3e4a-42bc-d0f0-f91d6b168108"
      },
      "source": [
        "print(data.isnull().sum())"
      ],
      "execution_count": 58,
      "outputs": [
        {
          "output_type": "stream",
          "name": "stdout",
          "text": [
            "X    0\n",
            "Y    0\n",
            "dtype: int64\n"
          ]
        }
      ]
    },
    {
      "cell_type": "code",
      "metadata": {
        "id": "CmUKEn7bD7mo"
      },
      "source": [
        "m1=np.mean(data['X']) \n",
        "m2=np.mean(data['Y']) \n",
        "data['X'].fillna(value=m1,inplace=True) \n",
        "data['Y'].fillna(value=m2,inplace=True)"
      ],
      "execution_count": 59,
      "outputs": []
    },
    {
      "cell_type": "markdown",
      "metadata": {
        "id": "xBc_K0jhSZXB"
      },
      "source": [
        "**Outliers Treatement**"
      ]
    },
    {
      "cell_type": "code",
      "metadata": {
        "id": "fhvPO4uwVn6m"
      },
      "source": [
        "outliers = []\n",
        "def detect_outliers_zscore(data):\n",
        "    thres = 3\n",
        "    mean = np.mean(data)\n",
        "    std = np.std(data)\n",
        "    # print(mean, std)\n",
        "    for i in data:\n",
        "        z_score = (i-mean)/std\n",
        "        if (np.abs(z_score) > thres):\n",
        "            outliers.append(i)\n",
        "    return outliers"
      ],
      "execution_count": 60,
      "outputs": []
    },
    {
      "cell_type": "code",
      "metadata": {
        "colab": {
          "base_uri": "https://localhost:8080/"
        },
        "id": "tbWPYTd6VumR",
        "outputId": "b7edea2d-7bb0-41d1-b8c3-ea4aee58b58b"
      },
      "source": [
        "sample_outliers_X = detect_outliers_zscore(data['X'])\n",
        "sample_outliers_Y = detect_outliers_zscore(data['Y'])\n",
        "print(\"Outliers in X column from Z-scores method: \", sample_outliers_X)\n",
        "print(\"Outliers in Y column from Z-scores method: \", sample_outliers_Y)"
      ],
      "execution_count": 61,
      "outputs": [
        {
          "output_type": "stream",
          "name": "stdout",
          "text": [
            "Outliers in X column from Z-scores method:  []\n",
            "Outliers in Y column from Z-scores method:  []\n"
          ]
        }
      ]
    },
    {
      "cell_type": "markdown",
      "metadata": {
        "id": "PB25XWkA5JBt"
      },
      "source": [
        "**Split Data**\n",
        "\n",
        "---\n",
        "\n",
        "\n",
        "> 90%-->training\n",
        "    10%-->Testing\n"
      ]
    },
    {
      "cell_type": "code",
      "metadata": {
        "id": "aq0K1oOuWkMw"
      },
      "source": [
        "from sklearn.model_selection import train_test_split\n",
        "x_train, x_test, y_train, y_test = train_test_split(data.X, data.Y, test_size = 0.1, random_state = 10)"
      ],
      "execution_count": 62,
      "outputs": []
    },
    {
      "cell_type": "markdown",
      "metadata": {
        "id": "6hmZ5mnRGOnh"
      },
      "source": [
        "**Intialisation**"
      ]
    },
    {
      "cell_type": "code",
      "metadata": {
        "id": "ei2tGmxTW18s"
      },
      "source": [
        "m=random.uniform(-10,10)\n",
        "c=random.uniform(-10,10)\n",
        "eta=0.01\n",
        "max_iter=10000"
      ],
      "execution_count": 63,
      "outputs": []
    },
    {
      "cell_type": "markdown",
      "metadata": {
        "id": "zWM4wvlSGSDS"
      },
      "source": [
        "**Gradient Calculation**"
      ]
    },
    {
      "cell_type": "code",
      "metadata": {
        "id": "kC5BFLeoW7SM"
      },
      "source": [
        "def gradient(m,c,x,y):\n",
        "  m_deriv=-1*(y-m*x-c)*x\n",
        "  c_deriv=-1*(y-m*x-c)\n",
        "  return m_deriv,c_deriv"
      ],
      "execution_count": 64,
      "outputs": []
    },
    {
      "cell_type": "markdown",
      "metadata": {
        "id": "Sj2YqZJfGcme"
      },
      "source": [
        "**Training Using Stochastic Gradient Descent Optimizer**"
      ]
    },
    {
      "cell_type": "code",
      "metadata": {
        "colab": {
          "base_uri": "https://localhost:8080/"
        },
        "id": "SVYdo25rXCF3",
        "outputId": "5e6f0c1b-c732-4c24-bede-1aee0c8249d2"
      },
      "source": [
        "for iter in range(max_iter):\n",
        "  for sample in range(x_train.shape[0]):\n",
        "    del_m,del_c=gradient(m, c, x_train.iloc[sample], y_train.iloc[sample])\n",
        "    m=m-eta*del_m\n",
        "    c=c-eta*del_c\n",
        "print('model parameter m and c',m,c)"
      ],
      "execution_count": 65,
      "outputs": [
        {
          "output_type": "stream",
          "name": "stdout",
          "text": [
            "model parameter m and c -38.01227197378195 446.3269761705182\n"
          ]
        }
      ]
    },
    {
      "cell_type": "markdown",
      "metadata": {
        "id": "Z1d_CQXuGivK"
      },
      "source": [
        "**Model Prediction on Training Data**"
      ]
    },
    {
      "cell_type": "code",
      "metadata": {
        "id": "n3YHEwtJGlyn"
      },
      "source": [
        "y_pred_train = []\n",
        "for i in x_train:\n",
        "  y_p_tr = (m * i) + c\n",
        "  y_pred_train.append(y_p_tr)\n",
        "y_pred_train = np.array(y_pred_train)"
      ],
      "execution_count": 66,
      "outputs": []
    },
    {
      "cell_type": "markdown",
      "metadata": {
        "id": "1qyYg0TyG1Xg"
      },
      "source": [
        "**Model Prediction on Testing Data**"
      ]
    },
    {
      "cell_type": "code",
      "metadata": {
        "id": "iLIMVbenG5FX"
      },
      "source": [
        "y_pred_test = []\n",
        "for i in x_test:\n",
        "  y_p_te = (m * i) + c\n",
        "  y_pred_test.append(y_p_te)\n",
        "y_pred_test = np.array(y_pred_test)"
      ],
      "execution_count": 67,
      "outputs": []
    },
    {
      "cell_type": "markdown",
      "metadata": {
        "id": "DyocDgecHB6Y"
      },
      "source": [
        "**Error Metrics Calculation**"
      ]
    },
    {
      "cell_type": "code",
      "metadata": {
        "colab": {
          "base_uri": "https://localhost:8080/"
        },
        "id": "dkcRxdSQHEEy",
        "outputId": "6726126e-bd14-48c4-f593-928a101d276f"
      },
      "source": [
        "#Training Accuracies\n",
        "rmse = mt.sqrt(mean_squared_error(y_train, y_pred_train)) \n",
        "print('Root mean square error', rmse) \n",
        "mse = (mean_squared_error(y_train, y_pred_train)) \n",
        "print('Mean square error', mse) \n",
        "mae=mean_absolute_error(y_train, y_pred_train)\n",
        "print('Mean absolute error', mae)\n",
        "r2_score1=metrics.r2_score(y_train,y_pred_train)\n",
        "print('R squared Error : ',r2_score1)"
      ],
      "execution_count": 68,
      "outputs": [
        {
          "output_type": "stream",
          "name": "stdout",
          "text": [
            "Root mean square error 52.238156063730756\n",
            "Mean square error 2728.8249489386903\n",
            "Mean absolute error 42.36625095500381\n",
            "R squared Error :  0.1030041103371625\n"
          ]
        }
      ]
    },
    {
      "cell_type": "code",
      "metadata": {
        "colab": {
          "base_uri": "https://localhost:8080/",
          "height": 295
        },
        "id": "18ZX_uNIIE0l",
        "outputId": "43015676-58db-4516-9a4c-cc9e40fa8006"
      },
      "source": [
        "plt.scatter(x_train, y_train, color = 'blue', label='Scatter Plot')\n",
        "plt.plot(x_train, y_pred_train, color = 'black', linewidth=3, label = 'Regression Line')\n",
        "plt.title('Relationship between pH and Bicarbonate')\n",
        "plt.xlabel('pH')\n",
        "plt.ylabel('Bicarbonate')\n",
        "plt.legend(loc=4)\n",
        "plt.show()"
      ],
      "execution_count": 69,
      "outputs": [
        {
          "output_type": "display_data",
          "data": {
            "image/png": "[encoded data removed]",
            "text/plain": [
              "<Figure size 432x288 with 1 Axes>"
            ]
          },
          "metadata": {
            "needs_background": "light"
          }
        }
      ]
    },
    {
      "cell_type": "code",
      "metadata": {
        "colab": {
          "base_uri": "https://localhost:8080/"
        },
        "id": "XjLl9k6sIYVC",
        "outputId": "1e6d02f5-b099-486f-a4fa-3da78002665f"
      },
      "source": [
        "#Testing Accuracies\n",
        "mse = math.sqrt(mean_squared_error(y_test, y_pred_test)) \n",
        "print('Root mean square error', mse) \n",
        "mse = (mean_squared_error(y_test, y_pred_test)) \n",
        "print('Mean square error', mse) \n",
        "mae=mean_absolute_error(y_test, y_pred_test)\n",
        "print('Mean absolute error', mae)\n",
        "r2_score=metrics.r2_score(y_test,y_pred_test)\n",
        "print('R squared Error : ',r2_score)"
      ],
      "execution_count": 70,
      "outputs": [
        {
          "output_type": "stream",
          "name": "stdout",
          "text": [
            "Root mean square error 59.451504430943245\n",
            "Mean square error 3534.481379102464\n",
            "Mean absolute error 55.20337479279003\n",
            "R squared Error :  -0.2486300162425079\n"
          ]
        }
      ]
    },
    {
      "cell_type": "code",
      "metadata": {
        "colab": {
          "base_uri": "https://localhost:8080/",
          "height": 295
        },
        "id": "wLYCynZ8JXfe",
        "outputId": "8daf1c20-44d1-4964-9a0e-b557762aa5a1"
      },
      "source": [
        "plt.scatter(x_test, y_test, color = 'blue', label='Scatter Plot')\n",
        "plt.plot(x_test, y_pred_test, color = 'black', linewidth=3, label = 'Regression Line')\n",
        "plt.title('Relationship between pH and Bicarbonate')\n",
        "plt.xlabel('pH')\n",
        "plt.ylabel('Bicarbonate')\n",
        "plt.legend(loc=4)\n",
        "plt.show()"
      ],
      "execution_count": 71,
      "outputs": [
        {
          "output_type": "display_data",
          "data": {
            "image/png": "[encoded data removed]",
            "text/plain": [
              "<Figure size 432x288 with 1 Axes>"
            ]
          },
          "metadata": {
            "needs_background": "light"
          }
        }
      ]
    },
    {
      "cell_type": "markdown",
      "metadata": {
        "id": "bi4fG9OCD7wM"
      },
      "source": [
        "**Save Model For Deployment**"
      ]
    },
    {
      "cell_type": "code",
      "metadata": {
        "id": "735so8pJBRKU",
        "colab": {
          "base_uri": "https://localhost:8080/"
        },
        "outputId": "f430ab17-07ac-4a9a-8ede-c7f62d82dd33"
      },
      "source": [
        "i=float(input('enter pH Level : '))\n",
        "Bicarbonate=m*i+c\n",
        "print('pH of well water : ',float(i))\n",
        "print('Bicarbonate (parts per million) of well water: ',Bicarbonate)"
      ],
      "execution_count": 72,
      "outputs": [
        {
          "output_type": "stream",
          "name": "stdout",
          "text": [
            "enter pH Level : 5.2\n",
            "pH of well water :  5.2\n",
            "Bicarbonate (parts per million) of well water:  248.66316190685205\n"
          ]
        }
      ]
    }
  ]
}