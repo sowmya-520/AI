{
  "nbformat": 4,
  "nbformat_minor": 0,
  "metadata": {
    "colab": {
      "name": "Untitled15.ipynb",
      "provenance": [],
      "collapsed_sections": [],
      "authorship_tag": "ABX9TyOk6D5A5Eqbjp76Zue/fkFp",
      "include_colab_link": true
    },
    "kernelspec": {
      "name": "python3",
      "display_name": "Python 3"
    },
    "language_info": {
      "name": "python"
    }
  },
  "cells": [
    {
      "cell_type": "markdown",
      "metadata": {
        "id": "view-in-github",
        "colab_type": "text"
      },
      "source": [
        "<a href=\"https://colab.research.google.com/github/sowmya-520/AI/blob/main/Untitled15.ipynb\" target=\"_parent\"><img src=\"https://colab.research.google.com/assets/colab-badge.svg\" alt=\"Open In Colab\"/></a>"
      ]
    },
    {
      "cell_type": "markdown",
      "metadata": {
        "id": "1dikLrxHU6uG"
      },
      "source": [
        "# **CAR PRICE PREDICTION** "
      ]
    },
    {
      "cell_type": "markdown",
      "metadata": {
        "id": "qSNmEV0tWbnL"
      },
      "source": [
        "# Mounting Google Drive"
      ]
    },
    {
      "cell_type": "code",
      "metadata": {
        "colab": {
          "base_uri": "https://localhost:8080/"
        },
        "id": "TzrdPASFB3Wb",
        "outputId": "1142e8cf-008c-4edd-dca1-4d3849b986c2"
      },
      "source": [
        "from google.colab import drive\n",
        "drive.mount('/content/drive')"
      ],
      "execution_count": 1,
      "outputs": [
        {
          "output_type": "stream",
          "name": "stdout",
          "text": [
            "Mounted at /content/drive\n"
          ]
        }
      ]
    },
    {
      "cell_type": "markdown",
      "metadata": {
        "id": "SeVQZk-pXcJr"
      },
      "source": [
        "# Importing Libraries"
      ]
    },
    {
      "cell_type": "code",
      "metadata": {
        "id": "j629RePECcp4"
      },
      "source": [
        "import pandas as pd\n",
        "import numpy as np\n",
        "import matplotlib.pyplot as plt\n",
        "from sklearn.linear_model import LinearRegression\n",
        "import math as mt \n",
        "from sklearn.metrics import mean_squared_error \n",
        "from sklearn.metrics import mean_absolute_error\n",
        "from sklearn import metrics\n",
        "from sklearn.preprocessing import MinMaxScaler"
      ],
      "execution_count": 2,
      "outputs": []
    },
    {
      "cell_type": "markdown",
      "metadata": {
        "id": "u2t7tnfKXsC3"
      },
      "source": [
        "# Loading the data"
      ]
    },
    {
      "cell_type": "code",
      "metadata": {
        "colab": {
          "base_uri": "https://localhost:8080/",
          "height": 293
        },
        "id": "WpPzyxuFX0oC",
        "outputId": "9d7c48f2-0bd8-440f-d3cb-f34725e98c84"
      },
      "source": [
        "car = pd.read_csv(\"/content/drive/MyDrive/Car details v3.csv\")\n",
        "car1=car.copy()\n",
        "car.head()"
      ],
      "execution_count": 3,
      "outputs": [
        {
          "output_type": "execute_result",
          "data": {
            "text/html": [
              "<div>\n",
              "<style scoped>\n",
              "    .dataframe tbody tr th:only-of-type {\n",
              "        vertical-align: middle;\n",
              "    }\n",
              "\n",
              "    .dataframe tbody tr th {\n",
              "        vertical-align: top;\n",
              "    }\n",
              "\n",
              "    .dataframe thead th {\n",
              "        text-align: right;\n",
              "    }\n",
              "</style>\n",
              "<table border=\"1\" class=\"dataframe\">\n",
              "  <thead>\n",
              "    <tr style=\"text-align: right;\">\n",
              "      <th></th>\n",
              "      <th>name</th>\n",
              "      <th>year</th>\n",
              "      <th>selling_price</th>\n",
              "      <th>km_driven</th>\n",
              "      <th>fuel</th>\n",
              "      <th>seller_type</th>\n",
              "      <th>transmission</th>\n",
              "      <th>owner</th>\n",
              "      <th>mileage</th>\n",
              "      <th>engine</th>\n",
              "      <th>max_power</th>\n",
              "      <th>torque</th>\n",
              "      <th>seats</th>\n",
              "    </tr>\n",
              "  </thead>\n",
              "  <tbody>\n",
              "    <tr>\n",
              "      <th>0</th>\n",
              "      <td>Maruti Swift Dzire VDI</td>\n",
              "      <td>2014</td>\n",
              "      <td>450000</td>\n",
              "      <td>145500</td>\n",
              "      <td>Diesel</td>\n",
              "      <td>Individual</td>\n",
              "      <td>Manual</td>\n",
              "      <td>First Owner</td>\n",
              "      <td>23.4 kmpl</td>\n",
              "      <td>1248 CC</td>\n",
              "      <td>74 bhp</td>\n",
              "      <td>190Nm@ 2000rpm</td>\n",
              "      <td>5.0</td>\n",
              "    </tr>\n",
              "    <tr>\n",
              "      <th>1</th>\n",
              "      <td>Skoda Rapid 1.5 TDI Ambition</td>\n",
              "      <td>2014</td>\n",
              "      <td>370000</td>\n",
              "      <td>120000</td>\n",
              "      <td>Diesel</td>\n",
              "      <td>Individual</td>\n",
              "      <td>Manual</td>\n",
              "      <td>Second Owner</td>\n",
              "      <td>21.14 kmpl</td>\n",
              "      <td>1498 CC</td>\n",
              "      <td>103.52 bhp</td>\n",
              "      <td>250Nm@ 1500-2500rpm</td>\n",
              "      <td>5.0</td>\n",
              "    </tr>\n",
              "    <tr>\n",
              "      <th>2</th>\n",
              "      <td>Honda City 2017-2020 EXi</td>\n",
              "      <td>2006</td>\n",
              "      <td>158000</td>\n",
              "      <td>140000</td>\n",
              "      <td>Petrol</td>\n",
              "      <td>Individual</td>\n",
              "      <td>Manual</td>\n",
              "      <td>Third Owner</td>\n",
              "      <td>17.7 kmpl</td>\n",
              "      <td>1497 CC</td>\n",
              "      <td>78 bhp</td>\n",
              "      <td>12.7@ 2,700(kgm@ rpm)</td>\n",
              "      <td>5.0</td>\n",
              "    </tr>\n",
              "    <tr>\n",
              "      <th>3</th>\n",
              "      <td>Hyundai i20 Sportz Diesel</td>\n",
              "      <td>2010</td>\n",
              "      <td>225000</td>\n",
              "      <td>127000</td>\n",
              "      <td>Diesel</td>\n",
              "      <td>Individual</td>\n",
              "      <td>Manual</td>\n",
              "      <td>First Owner</td>\n",
              "      <td>23.0 kmpl</td>\n",
              "      <td>1396 CC</td>\n",
              "      <td>90 bhp</td>\n",
              "      <td>22.4 kgm at 1750-2750rpm</td>\n",
              "      <td>5.0</td>\n",
              "    </tr>\n",
              "    <tr>\n",
              "      <th>4</th>\n",
              "      <td>Maruti Swift VXI BSIII</td>\n",
              "      <td>2007</td>\n",
              "      <td>130000</td>\n",
              "      <td>120000</td>\n",
              "      <td>Petrol</td>\n",
              "      <td>Individual</td>\n",
              "      <td>Manual</td>\n",
              "      <td>First Owner</td>\n",
              "      <td>16.1 kmpl</td>\n",
              "      <td>1298 CC</td>\n",
              "      <td>88.2 bhp</td>\n",
              "      <td>11.5@ 4,500(kgm@ rpm)</td>\n",
              "      <td>5.0</td>\n",
              "    </tr>\n",
              "  </tbody>\n",
              "</table>\n",
              "</div>"
            ],
            "text/plain": [
              "                           name  year  ...                    torque  seats\n",
              "0        Maruti Swift Dzire VDI  2014  ...            190Nm@ 2000rpm    5.0\n",
              "1  Skoda Rapid 1.5 TDI Ambition  2014  ...       250Nm@ 1500-2500rpm    5.0\n",
              "2      Honda City 2017-2020 EXi  2006  ...     12.7@ 2,700(kgm@ rpm)    5.0\n",
              "3     Hyundai i20 Sportz Diesel  2010  ...  22.4 kgm at 1750-2750rpm    5.0\n",
              "4        Maruti Swift VXI BSIII  2007  ...     11.5@ 4,500(kgm@ rpm)    5.0\n",
              "\n",
              "[5 rows x 13 columns]"
            ]
          },
          "metadata": {},
          "execution_count": 3
        }
      ]
    },
    {
      "cell_type": "markdown",
      "metadata": {
        "id": "SfI7--6IZ9Ch"
      },
      "source": [
        "# ***DATA PRE PROCESSING***"
      ]
    },
    {
      "cell_type": "code",
      "metadata": {
        "colab": {
          "base_uri": "https://localhost:8080/"
        },
        "id": "SfSdUjciaIa5",
        "outputId": "f9a1ff1e-524a-49e6-c785-c8a87e678fff"
      },
      "source": [
        "#Printing the info of all columns in dataset\n",
        "#and checking for null values\n",
        "print(car.info())"
      ],
      "execution_count": 4,
      "outputs": [
        {
          "output_type": "stream",
          "name": "stdout",
          "text": [
            "<class 'pandas.core.frame.DataFrame'>\n",
            "RangeIndex: 8128 entries, 0 to 8127\n",
            "Data columns (total 13 columns):\n",
            " #   Column         Non-Null Count  Dtype  \n",
            "---  ------         --------------  -----  \n",
            " 0   name           8128 non-null   object \n",
            " 1   year           8128 non-null   int64  \n",
            " 2   selling_price  8128 non-null   int64  \n",
            " 3   km_driven      8128 non-null   int64  \n",
            " 4   fuel           8128 non-null   object \n",
            " 5   seller_type    8128 non-null   object \n",
            " 6   transmission   8128 non-null   object \n",
            " 7   owner          8128 non-null   object \n",
            " 8   mileage        7907 non-null   object \n",
            " 9   engine         7907 non-null   object \n",
            " 10  max_power      7913 non-null   object \n",
            " 11  torque         7906 non-null   object \n",
            " 12  seats          7907 non-null   float64\n",
            "dtypes: float64(1), int64(3), object(9)\n",
            "memory usage: 825.6+ KB\n",
            "None\n"
          ]
        }
      ]
    },
    {
      "cell_type": "markdown",
      "metadata": {
        "id": "y_IA8sxidsJ6"
      },
      "source": [
        "# *Cleaning the data*"
      ]
    },
    {
      "cell_type": "code",
      "metadata": {
        "colab": {
          "base_uri": "https://localhost:8080/"
        },
        "id": "2UPN15IXGKu7",
        "outputId": "9134478c-0378-4726-cb09-e8000d7ccbbe"
      },
      "source": [
        "#Changing the values of mileage  example: from 23.4kmpl to 23.4\n",
        "#Changing the values of engine   example: from 1248CC   to 1248\n",
        "car['mileage']=car['mileage'].str.replace('kmpl',' ')\n",
        "car['mileage']=pd.to_numeric(car['mileage'],errors='coerce')\n",
        "car['max_power']=car['max_power'].str.replace('bhp',' ')\n",
        "car['max_power']=pd.to_numeric(car['max_power'],errors='coerce')\n",
        "car['engine']=car['engine'].str.replace('CC',' ')\n",
        "car['engine']=pd.to_numeric(car['engine'],errors='coerce')\n",
        "print(car['mileage'].sample(5))\n",
        "print(car['max_power'].sample(5))\n",
        "print(car['engine'].sample(5))"
      ],
      "execution_count": 5,
      "outputs": [
        {
          "output_type": "stream",
          "name": "stdout",
          "text": [
            "1528    17.50\n",
            "5959    21.70\n",
            "3374    24.70\n",
            "6833    20.77\n",
            "7978    18.50\n",
            "Name: mileage, dtype: float64\n",
            "6124     74.0\n",
            "4451     74.0\n",
            "5147     88.5\n",
            "5339     62.1\n",
            "1638    108.5\n",
            "Name: max_power, dtype: float64\n",
            "1366    1199.0\n",
            "5724    1399.0\n",
            "7842    1498.0\n",
            "4639     998.0\n",
            "7301    1248.0\n",
            "Name: engine, dtype: float64\n"
          ]
        }
      ]
    },
    {
      "cell_type": "code",
      "metadata": {
        "colab": {
          "base_uri": "https://localhost:8080/"
        },
        "id": "4_tgYdOcF5n3",
        "outputId": "bcb6d477-7bae-415f-c937-a632b5971b94"
      },
      "source": [
        "car.info()"
      ],
      "execution_count": 6,
      "outputs": [
        {
          "output_type": "stream",
          "name": "stdout",
          "text": [
            "<class 'pandas.core.frame.DataFrame'>\n",
            "RangeIndex: 8128 entries, 0 to 8127\n",
            "Data columns (total 13 columns):\n",
            " #   Column         Non-Null Count  Dtype  \n",
            "---  ------         --------------  -----  \n",
            " 0   name           8128 non-null   object \n",
            " 1   year           8128 non-null   int64  \n",
            " 2   selling_price  8128 non-null   int64  \n",
            " 3   km_driven      8128 non-null   int64  \n",
            " 4   fuel           8128 non-null   object \n",
            " 5   seller_type    8128 non-null   object \n",
            " 6   transmission   8128 non-null   object \n",
            " 7   owner          8128 non-null   object \n",
            " 8   mileage        7819 non-null   float64\n",
            " 9   engine         7907 non-null   float64\n",
            " 10  max_power      7912 non-null   float64\n",
            " 11  torque         7906 non-null   object \n",
            " 12  seats          7907 non-null   float64\n",
            "dtypes: float64(4), int64(3), object(6)\n",
            "memory usage: 825.6+ KB\n"
          ]
        }
      ]
    },
    {
      "cell_type": "code",
      "metadata": {
        "colab": {
          "base_uri": "https://localhost:8080/",
          "height": 206
        },
        "id": "7-rDfUem5TYA",
        "outputId": "aa789e6d-2fe6-4a7b-df72-ef326f66543e"
      },
      "source": [
        "#Dropping the torque column\n",
        "car.drop(['torque'],axis=1,inplace=True)\n",
        "car.head()"
      ],
      "execution_count": 7,
      "outputs": [
        {
          "output_type": "execute_result",
          "data": {
            "text/html": [
              "<div>\n",
              "<style scoped>\n",
              "    .dataframe tbody tr th:only-of-type {\n",
              "        vertical-align: middle;\n",
              "    }\n",
              "\n",
              "    .dataframe tbody tr th {\n",
              "        vertical-align: top;\n",
              "    }\n",
              "\n",
              "    .dataframe thead th {\n",
              "        text-align: right;\n",
              "    }\n",
              "</style>\n",
              "<table border=\"1\" class=\"dataframe\">\n",
              "  <thead>\n",
              "    <tr style=\"text-align: right;\">\n",
              "      <th></th>\n",
              "      <th>name</th>\n",
              "      <th>year</th>\n",
              "      <th>selling_price</th>\n",
              "      <th>km_driven</th>\n",
              "      <th>fuel</th>\n",
              "      <th>seller_type</th>\n",
              "      <th>transmission</th>\n",
              "      <th>owner</th>\n",
              "      <th>mileage</th>\n",
              "      <th>engine</th>\n",
              "      <th>max_power</th>\n",
              "      <th>seats</th>\n",
              "    </tr>\n",
              "  </thead>\n",
              "  <tbody>\n",
              "    <tr>\n",
              "      <th>0</th>\n",
              "      <td>Maruti Swift Dzire VDI</td>\n",
              "      <td>2014</td>\n",
              "      <td>450000</td>\n",
              "      <td>145500</td>\n",
              "      <td>Diesel</td>\n",
              "      <td>Individual</td>\n",
              "      <td>Manual</td>\n",
              "      <td>First Owner</td>\n",
              "      <td>23.40</td>\n",
              "      <td>1248.0</td>\n",
              "      <td>74.00</td>\n",
              "      <td>5.0</td>\n",
              "    </tr>\n",
              "    <tr>\n",
              "      <th>1</th>\n",
              "      <td>Skoda Rapid 1.5 TDI Ambition</td>\n",
              "      <td>2014</td>\n",
              "      <td>370000</td>\n",
              "      <td>120000</td>\n",
              "      <td>Diesel</td>\n",
              "      <td>Individual</td>\n",
              "      <td>Manual</td>\n",
              "      <td>Second Owner</td>\n",
              "      <td>21.14</td>\n",
              "      <td>1498.0</td>\n",
              "      <td>103.52</td>\n",
              "      <td>5.0</td>\n",
              "    </tr>\n",
              "    <tr>\n",
              "      <th>2</th>\n",
              "      <td>Honda City 2017-2020 EXi</td>\n",
              "      <td>2006</td>\n",
              "      <td>158000</td>\n",
              "      <td>140000</td>\n",
              "      <td>Petrol</td>\n",
              "      <td>Individual</td>\n",
              "      <td>Manual</td>\n",
              "      <td>Third Owner</td>\n",
              "      <td>17.70</td>\n",
              "      <td>1497.0</td>\n",
              "      <td>78.00</td>\n",
              "      <td>5.0</td>\n",
              "    </tr>\n",
              "    <tr>\n",
              "      <th>3</th>\n",
              "      <td>Hyundai i20 Sportz Diesel</td>\n",
              "      <td>2010</td>\n",
              "      <td>225000</td>\n",
              "      <td>127000</td>\n",
              "      <td>Diesel</td>\n",
              "      <td>Individual</td>\n",
              "      <td>Manual</td>\n",
              "      <td>First Owner</td>\n",
              "      <td>23.00</td>\n",
              "      <td>1396.0</td>\n",
              "      <td>90.00</td>\n",
              "      <td>5.0</td>\n",
              "    </tr>\n",
              "    <tr>\n",
              "      <th>4</th>\n",
              "      <td>Maruti Swift VXI BSIII</td>\n",
              "      <td>2007</td>\n",
              "      <td>130000</td>\n",
              "      <td>120000</td>\n",
              "      <td>Petrol</td>\n",
              "      <td>Individual</td>\n",
              "      <td>Manual</td>\n",
              "      <td>First Owner</td>\n",
              "      <td>16.10</td>\n",
              "      <td>1298.0</td>\n",
              "      <td>88.20</td>\n",
              "      <td>5.0</td>\n",
              "    </tr>\n",
              "  </tbody>\n",
              "</table>\n",
              "</div>"
            ],
            "text/plain": [
              "                           name  year  selling_price  ...  engine max_power seats\n",
              "0        Maruti Swift Dzire VDI  2014         450000  ...  1248.0     74.00   5.0\n",
              "1  Skoda Rapid 1.5 TDI Ambition  2014         370000  ...  1498.0    103.52   5.0\n",
              "2      Honda City 2017-2020 EXi  2006         158000  ...  1497.0     78.00   5.0\n",
              "3     Hyundai i20 Sportz Diesel  2010         225000  ...  1396.0     90.00   5.0\n",
              "4        Maruti Swift VXI BSIII  2007         130000  ...  1298.0     88.20   5.0\n",
              "\n",
              "[5 rows x 12 columns]"
            ]
          },
          "metadata": {},
          "execution_count": 7
        }
      ]
    },
    {
      "cell_type": "code",
      "metadata": {
        "colab": {
          "base_uri": "https://localhost:8080/"
        },
        "id": "p-eBLl1K7YCb",
        "outputId": "5609add9-215e-498c-de3c-a3435c4c255c"
      },
      "source": [
        "print('transmission: ',car.transmission.unique())\n",
        "print('seller_type: ',car.seller_type.unique())\n",
        "print('fuel: ',car.fuel.unique())\n",
        "print('owner: ',car.owner.unique())"
      ],
      "execution_count": 8,
      "outputs": [
        {
          "output_type": "stream",
          "name": "stdout",
          "text": [
            "transmission:  ['Manual' 'Automatic']\n",
            "seller_type:  ['Individual' 'Dealer' 'Trustmark Dealer']\n",
            "fuel:  ['Diesel' 'Petrol' 'LPG' 'CNG']\n",
            "owner:  ['First Owner' 'Second Owner' 'Third Owner' 'Fourth & Above Owner'\n",
            " 'Test Drive Car']\n"
          ]
        }
      ]
    },
    {
      "cell_type": "markdown",
      "metadata": {
        "id": "ukswasm9pCNt"
      },
      "source": [
        "# *Categorical Conversion*"
      ]
    },
    {
      "cell_type": "code",
      "metadata": {
        "id": "E6mRr7HysrrN"
      },
      "source": [
        "trans1=pd.get_dummies(car['transmission'],drop_first=True)\n",
        "car = pd.concat([car,trans1],axis=1)\n",
        "car.drop(['transmission'],axis=1,inplace=True)\n",
        "\n",
        "seller = pd.get_dummies(car['seller_type'],drop_first=True)\n",
        "car=pd.concat([car,seller],axis=1)\n",
        "car.drop(['seller_type'],axis=1,inplace=True)\n",
        "\n",
        "fuel1=pd.get_dummies(car['fuel'],drop_first=True)\n",
        "car=pd.concat([car,fuel1],axis=1)\n",
        "car.drop(['fuel'],axis=1,inplace=True)\n",
        "\n",
        "own=pd.get_dummies(car['owner'],drop_first=True)\n",
        "car = pd.concat([car,own],axis=1)\n",
        "car.drop(['owner'],axis=1,inplace=True)\n",
        "car.drop(['Manual'],axis=1,inplace=True)\n"
      ],
      "execution_count": 9,
      "outputs": []
    },
    {
      "cell_type": "code",
      "metadata": {
        "id": "yreuucRQQkF7",
        "colab": {
          "base_uri": "https://localhost:8080/"
        },
        "outputId": "f49ea3c6-2b0c-4bc5-d2b6-0d1b18984ddf"
      },
      "source": [
        "print(car.isnull().sum())"
      ],
      "execution_count": 10,
      "outputs": [
        {
          "output_type": "stream",
          "name": "stdout",
          "text": [
            "name                      0\n",
            "year                      0\n",
            "selling_price             0\n",
            "km_driven                 0\n",
            "mileage                 309\n",
            "engine                  221\n",
            "max_power               216\n",
            "seats                   221\n",
            "Individual                0\n",
            "Trustmark Dealer          0\n",
            "Diesel                    0\n",
            "LPG                       0\n",
            "Petrol                    0\n",
            "Fourth & Above Owner      0\n",
            "Second Owner              0\n",
            "Test Drive Car            0\n",
            "Third Owner               0\n",
            "dtype: int64\n"
          ]
        }
      ]
    },
    {
      "cell_type": "markdown",
      "metadata": {
        "id": "x6ddA2xUQgeZ"
      },
      "source": [
        "# Missing values treatment"
      ]
    },
    {
      "cell_type": "code",
      "metadata": {
        "id": "KH0XWZgnMAYS"
      },
      "source": [
        "m1=np.mean(car['mileage']) \n",
        "m2=np.mean(car['engine']) \n",
        "m3=np.mean(car['max_power']) \n",
        "m4=np.mean(car['seats'])\n",
        "car_new=car.copy()\n",
        "car['mileage'].fillna(value=m1,inplace=True) \n",
        "car['engine'].fillna(value=m2,inplace=True)\n",
        "car['max_power'].fillna(value=m3,inplace=True)\n",
        "car['seats'].fillna(value=m4,inplace=True)"
      ],
      "execution_count": 11,
      "outputs": []
    },
    {
      "cell_type": "code",
      "metadata": {
        "id": "E8Kb5nP8hh5d",
        "colab": {
          "base_uri": "https://localhost:8080/"
        },
        "outputId": "27757de7-e632-4f29-b40a-61a619c0f49d"
      },
      "source": [
        "print(car.isnull().sum())"
      ],
      "execution_count": 12,
      "outputs": [
        {
          "output_type": "stream",
          "name": "stdout",
          "text": [
            "name                    0\n",
            "year                    0\n",
            "selling_price           0\n",
            "km_driven               0\n",
            "mileage                 0\n",
            "engine                  0\n",
            "max_power               0\n",
            "seats                   0\n",
            "Individual              0\n",
            "Trustmark Dealer        0\n",
            "Diesel                  0\n",
            "LPG                     0\n",
            "Petrol                  0\n",
            "Fourth & Above Owner    0\n",
            "Second Owner            0\n",
            "Test Drive Car          0\n",
            "Third Owner             0\n",
            "dtype: int64\n"
          ]
        }
      ]
    },
    {
      "cell_type": "markdown",
      "metadata": {
        "id": "csXNuZZtpzG6"
      },
      "source": [
        "# *Outliers Detection*"
      ]
    },
    {
      "cell_type": "code",
      "metadata": {
        "colab": {
          "base_uri": "https://localhost:8080/",
          "height": 495
        },
        "id": "6pQQTttXp3fD",
        "outputId": "136fbe5a-4425-41bf-bb82-5a5eb4a42f62"
      },
      "source": [
        "#Creating a box plot for the data\n",
        "plt.figure(figsize=(12,8))\n",
        "car.boxplot()\n",
        "plt.show()"
      ],
      "execution_count": 13,
      "outputs": [
        {
          "output_type": "display_data",
          "data": {
            "image/png": "[encoded data removed]",
            "text/plain": [
              "<Figure size 864x576 with 1 Axes>"
            ]
          },
          "metadata": {
            "needs_background": "light"
          }
        }
      ]
    },
    {
      "cell_type": "code",
      "metadata": {
        "colab": {
          "base_uri": "https://localhost:8080/",
          "height": 280
        },
        "id": "62CEodxvGlyi",
        "outputId": "9ff81e03-73ed-4754-94fd-b5e8a87ed374"
      },
      "source": [
        "plt.hist(car.selling_price, bins=20, rwidth=0.8)\n",
        "plt.xlabel('')\n",
        "plt.ylabel('Count')\n",
        "plt.show()"
      ],
      "execution_count": 14,
      "outputs": [
        {
          "output_type": "display_data",
          "data": {
            "image/png": "[encoded data removed]",
            "text/plain": [
              "<Figure size 432x288 with 1 Axes>"
            ]
          },
          "metadata": {
            "needs_background": "light"
          }
        }
      ]
    },
    {
      "cell_type": "markdown",
      "metadata": {
        "id": "15Q11fH6b0tE"
      },
      "source": [
        "# *Outliers Treatement*"
      ]
    },
    {
      "cell_type": "code",
      "metadata": {
        "id": "1C8IMTzDWsji"
      },
      "source": [
        "def outliers(df,ft):\n",
        "   Q1=df[ft].quantile(0.25)\n",
        "   Q3=df[ft].quantile(0.75)\n",
        "   IQR=Q3-Q1\n",
        "\n",
        "   lower_bound=Q1 - 1.5 * IQR\n",
        "   upper_bound=Q3 + 1.5 * IQR\n",
        "   \n",
        "   ls=df.index[(df[ft] < lower_bound) | (df[ft] > upper_bound) ]\n",
        "  \n",
        "   return ls"
      ],
      "execution_count": 15,
      "outputs": []
    },
    {
      "cell_type": "code",
      "metadata": {
        "id": "CsqX2hSqXxD8"
      },
      "source": [
        "index_list=[]\n",
        "for feature in ['selling_price','km_driven']:\n",
        "  index_list.extend(outliers(car,feature))\n"
      ],
      "execution_count": 16,
      "outputs": []
    },
    {
      "cell_type": "code",
      "metadata": {
        "colab": {
          "base_uri": "https://localhost:8080/"
        },
        "id": "B_4I5eBrYjSv",
        "outputId": "9d6547cf-4338-44b1-97fd-90e41e21df46"
      },
      "source": [
        "print(index_list)"
      ],
      "execution_count": 17,
      "outputs": [
        {
          "output_type": "stream",
          "name": "stdout",
          "text": [
            "[41, 47, 49, 55, 57, 58, 59, 60, 75, 82, 110, 131, 132, 133, 134, 135, 136, 137, 138, 139, 140, 141, 142, 145, 146, 148, 151, 156, 158, 163, 165, 166, 167, 170, 187, 257, 288, 350, 362, 370, 371, 372, 374, 375, 384, 385, 388, 409, 410, 411, 413, 414, 423, 424, 427, 452, 468, 470, 526, 550, 569, 595, 600, 646, 647, 648, 650, 651, 660, 661, 664, 681, 742, 906, 970, 1007, 1039, 1057, 1060, 1063, 1064, 1065, 1066, 1067, 1071, 1073, 1075, 1077, 1078, 1079, 1081, 1082, 1091, 1092, 1095, 1096, 1097, 1098, 1100, 1101, 1110, 1111, 1114, 1115, 1116, 1117, 1119, 1120, 1129, 1130, 1133, 1134, 1135, 1136, 1138, 1139, 1148, 1149, 1152, 1255, 1360, 1397, 1410, 1530, 1540, 1561, 1562, 1563, 1564, 1572, 1586, 1590, 1636, 1674, 1676, 1689, 1709, 1710, 1711, 1713, 1714, 1723, 1724, 1727, 1748, 1752, 1767, 1821, 1828, 1830, 1834, 1835, 1857, 1858, 1859, 1860, 1863, 1871, 1872, 1906, 1923, 1969, 1977, 1978, 1979, 1980, 1984, 1989, 1990, 1993, 1994, 2012, 2038, 2106, 2109, 2129, 2131, 2135, 2137, 2229, 2397, 2537, 2619, 2622, 2630, 2631, 2632, 2634, 2635, 2644, 2645, 2648, 2657, 2663, 2664, 2665, 2667, 2668, 2677, 2678, 2681, 2702, 2704, 2705, 2795, 2823, 2826, 2827, 2828, 2829, 2832, 2840, 2866, 2881, 2918, 2938, 2943, 3066, 3078, 3079, 3080, 3082, 3083, 3092, 3093, 3096, 3110, 3111, 3184, 3214, 3236, 3237, 3238, 3239, 3240, 3241, 3242, 3243, 3245, 3248, 3251, 3351, 3352, 3357, 3360, 3392, 3408, 3409, 3410, 3412, 3413, 3422, 3423, 3426, 3449, 3456, 3516, 3517, 3518, 3520, 3521, 3530, 3531, 3534, 3542, 3572, 3605, 3607, 3611, 3686, 3725, 3749, 3775, 3831, 3832, 3833, 3835, 3836, 3845, 3846, 3849, 3871, 3938, 3964, 3987, 4019, 4030, 4080, 4083, 4086, 4089, 4090, 4091, 4093, 4097, 4101, 4136, 4179, 4180, 4195, 4196, 4208, 4215, 4216, 4217, 4219, 4220, 4229, 4230, 4233, 4234, 4235, 4236, 4238, 4239, 4248, 4249, 4252, 4255, 4256, 4257, 4259, 4260, 4269, 4270, 4273, 4320, 4321, 4322, 4324, 4325, 4334, 4335, 4338, 4356, 4364, 4375, 4377, 4380, 4383, 4384, 4393, 4395, 4399, 4414, 4415, 4416, 4418, 4419, 4428, 4429, 4432, 4504, 4511, 4525, 4527, 4589, 4670, 4671, 4675, 4676, 4678, 4680, 4682, 4704, 4706, 4707, 4738, 4739, 4753, 4757, 4758, 4763, 4766, 4772, 4782, 4785, 4787, 4788, 4789, 4791, 4796, 4799, 4815, 4816, 4817, 4819, 4820, 4829, 4830, 4833, 4851, 4940, 4941, 4945, 4950, 4951, 4952, 5020, 5036, 5077, 5083, 5084, 5085, 5087, 5088, 5097, 5098, 5101, 5124, 5126, 5188, 5245, 5246, 5247, 5248, 5249, 5252, 5253, 5255, 5256, 5257, 5258, 5259, 5261, 5262, 5283, 5312, 5318, 5321, 5355, 5430, 5506, 5511, 5528, 5538, 5614, 5615, 5616, 5618, 5619, 5628, 5629, 5632, 5647, 5710, 5774, 5823, 5828, 5836, 5858, 5897, 5985, 6042, 6043, 6044, 6046, 6103, 6104, 6166, 6167, 6168, 6170, 6171, 6180, 6181, 6184, 6213, 6215, 6217, 6220, 6248, 6255, 6258, 6279, 6282, 6296, 6297, 6308, 6327, 6364, 6371, 6456, 6468, 6554, 6555, 6556, 6558, 6559, 6568, 6569, 6572, 6573, 6574, 6575, 6577, 6578, 6587, 6588, 6591, 6638, 6681, 6689, 6690, 6691, 6693, 6694, 6703, 6704, 6707, 6720, 6724, 6820, 6881, 6895, 6900, 6903, 6959, 6960, 6961, 6963, 6964, 6973, 6974, 6977, 6989, 6999, 7007, 7047, 7077, 7129, 7174, 7176, 7178, 7189, 7324, 7325, 7326, 7331, 7337, 7340, 7343, 7368, 7370, 7374, 7379, 7411, 7447, 7477, 7495, 7506, 7508, 7516, 7522, 7561, 7596, 7661, 7699, 7700, 7701, 7702, 7703, 7705, 7709, 7710, 7711, 7713, 7716, 7744, 7747, 7749, 7756, 7757, 7772, 7775, 7792, 7797, 7808, 7840, 7858, 7859, 7860, 7862, 7863, 7872, 7873, 7876, 7892, 7906, 7919, 7920, 7922, 7925, 7930, 7931, 7949, 7967, 7973, 8058, 8108, 272, 287, 394, 396, 397, 401, 461, 508, 597, 886, 903, 960, 962, 994, 998, 1025, 1237, 1243, 1251, 1257, 1261, 1295, 1348, 1629, 1656, 1796, 1810, 1880, 1919, 1965, 1997, 2006, 2036, 2094, 2272, 2293, 2402, 2559, 2579, 2584, 2591, 2707, 2726, 2761, 2805, 2865, 2977, 2999, 3047, 3120, 3168, 3303, 3326, 3435, 3486, 3504, 3508, 3513, 3583, 3584, 3588, 3641, 3679, 3714, 3852, 3873, 3874, 3888, 3944, 4011, 4046, 4061, 4117, 4278, 4287, 4319, 4352, 4491, 4502, 4507, 4570, 4572, 4630, 4653, 4654, 4664, 4708, 4752, 4861, 4953, 4954, 4961, 4998, 5057, 5060, 5106, 5140, 5189, 5193, 5212, 5227, 5228, 5279, 5323, 5349, 5422, 5445, 5450, 5459, 5467, 5493, 5570, 5598, 5683, 5694, 5712, 5770, 5808, 5813, 5818, 5871, 5949, 5981, 5998, 6061, 6200, 6250, 6418, 6539, 6544, 6547, 6633, 6643, 6648, 6673, 6713, 6715, 6755, 6775, 6782, 7042, 7064, 7102, 7116, 7148, 7152, 7224, 7259, 7355, 7435, 7471, 7498, 7524, 7627, 7631, 7633, 7640, 7645, 7691, 7810, 7811, 7818, 7945, 7969, 8030, 8031, 8033, 8071, 8077, 8095]\n"
          ]
        }
      ]
    },
    {
      "cell_type": "code",
      "metadata": {
        "id": "QFf2qnGdYufz"
      },
      "source": [
        "def remove(df,ls):\n",
        "   ls=sorted(set(ls))\n",
        "   df=df.drop(ls)\n",
        "   return df"
      ],
      "execution_count": 18,
      "outputs": []
    },
    {
      "cell_type": "code",
      "metadata": {
        "id": "aUqvVMynY-wb"
      },
      "source": [
        "car=remove(car,index_list)"
      ],
      "execution_count": 19,
      "outputs": []
    },
    {
      "cell_type": "markdown",
      "metadata": {
        "id": "Xdi3zp3fcaNq"
      },
      "source": [
        "# *Data Normalisation*"
      ]
    },
    {
      "cell_type": "code",
      "metadata": {
        "colab": {
          "base_uri": "https://localhost:8080/",
          "height": 432
        },
        "id": "vj_8ukyTiFMF",
        "outputId": "365c25a2-b3dc-4bbd-a4c3-b119cf2e477c"
      },
      "source": [
        "scaler = MinMaxScaler()\n",
        "\n",
        "# Applying scaler() to all the columns except the 'yes-no' and 'dummy' variables\n",
        "num_vars = ['year','selling_price','km_driven','mileage','engine','max_power','seats']\n",
        "car[num_vars] = scaler.fit_transform(car[num_vars])\n",
        "car.head()"
      ],
      "execution_count": 20,
      "outputs": [
        {
          "output_type": "execute_result",
          "data": {
            "text/html": [
              "<div>\n",
              "<style scoped>\n",
              "    .dataframe tbody tr th:only-of-type {\n",
              "        vertical-align: middle;\n",
              "    }\n",
              "\n",
              "    .dataframe tbody tr th {\n",
              "        vertical-align: top;\n",
              "    }\n",
              "\n",
              "    .dataframe thead th {\n",
              "        text-align: right;\n",
              "    }\n",
              "</style>\n",
              "<table border=\"1\" class=\"dataframe\">\n",
              "  <thead>\n",
              "    <tr style=\"text-align: right;\">\n",
              "      <th></th>\n",
              "      <th>name</th>\n",
              "      <th>year</th>\n",
              "      <th>selling_price</th>\n",
              "      <th>km_driven</th>\n",
              "      <th>mileage</th>\n",
              "      <th>engine</th>\n",
              "      <th>max_power</th>\n",
              "      <th>seats</th>\n",
              "      <th>Individual</th>\n",
              "      <th>Trustmark Dealer</th>\n",
              "      <th>Diesel</th>\n",
              "      <th>LPG</th>\n",
              "      <th>Petrol</th>\n",
              "      <th>Fourth &amp; Above Owner</th>\n",
              "      <th>Second Owner</th>\n",
              "      <th>Test Drive Car</th>\n",
              "      <th>Third Owner</th>\n",
              "    </tr>\n",
              "  </thead>\n",
              "  <tbody>\n",
              "    <tr>\n",
              "      <th>0</th>\n",
              "      <td>Maruti Swift Dzire VDI</td>\n",
              "      <td>0.837838</td>\n",
              "      <td>0.330709</td>\n",
              "      <td>0.757811</td>\n",
              "      <td>0.823944</td>\n",
              "      <td>0.217119</td>\n",
              "      <td>0.272059</td>\n",
              "      <td>0.25</td>\n",
              "      <td>1</td>\n",
              "      <td>0</td>\n",
              "      <td>1</td>\n",
              "      <td>0</td>\n",
              "      <td>0</td>\n",
              "      <td>0</td>\n",
              "      <td>0</td>\n",
              "      <td>0</td>\n",
              "      <td>0</td>\n",
              "    </tr>\n",
              "    <tr>\n",
              "      <th>1</th>\n",
              "      <td>Skoda Rapid 1.5 TDI Ambition</td>\n",
              "      <td>0.837838</td>\n",
              "      <td>0.267717</td>\n",
              "      <td>0.624998</td>\n",
              "      <td>0.744366</td>\n",
              "      <td>0.304106</td>\n",
              "      <td>0.380588</td>\n",
              "      <td>0.25</td>\n",
              "      <td>1</td>\n",
              "      <td>0</td>\n",
              "      <td>1</td>\n",
              "      <td>0</td>\n",
              "      <td>0</td>\n",
              "      <td>0</td>\n",
              "      <td>1</td>\n",
              "      <td>0</td>\n",
              "      <td>0</td>\n",
              "    </tr>\n",
              "    <tr>\n",
              "      <th>2</th>\n",
              "      <td>Honda City 2017-2020 EXi</td>\n",
              "      <td>0.621622</td>\n",
              "      <td>0.100788</td>\n",
              "      <td>0.729165</td>\n",
              "      <td>0.623239</td>\n",
              "      <td>0.303758</td>\n",
              "      <td>0.286765</td>\n",
              "      <td>0.25</td>\n",
              "      <td>1</td>\n",
              "      <td>0</td>\n",
              "      <td>0</td>\n",
              "      <td>0</td>\n",
              "      <td>1</td>\n",
              "      <td>0</td>\n",
              "      <td>0</td>\n",
              "      <td>0</td>\n",
              "      <td>1</td>\n",
              "    </tr>\n",
              "    <tr>\n",
              "      <th>3</th>\n",
              "      <td>Hyundai i20 Sportz Diesel</td>\n",
              "      <td>0.729730</td>\n",
              "      <td>0.153544</td>\n",
              "      <td>0.661457</td>\n",
              "      <td>0.809859</td>\n",
              "      <td>0.268615</td>\n",
              "      <td>0.330882</td>\n",
              "      <td>0.25</td>\n",
              "      <td>1</td>\n",
              "      <td>0</td>\n",
              "      <td>1</td>\n",
              "      <td>0</td>\n",
              "      <td>0</td>\n",
              "      <td>0</td>\n",
              "      <td>0</td>\n",
              "      <td>0</td>\n",
              "      <td>0</td>\n",
              "    </tr>\n",
              "    <tr>\n",
              "      <th>4</th>\n",
              "      <td>Maruti Swift VXI BSIII</td>\n",
              "      <td>0.648649</td>\n",
              "      <td>0.078741</td>\n",
              "      <td>0.624998</td>\n",
              "      <td>0.566901</td>\n",
              "      <td>0.234516</td>\n",
              "      <td>0.324265</td>\n",
              "      <td>0.25</td>\n",
              "      <td>1</td>\n",
              "      <td>0</td>\n",
              "      <td>0</td>\n",
              "      <td>0</td>\n",
              "      <td>1</td>\n",
              "      <td>0</td>\n",
              "      <td>0</td>\n",
              "      <td>0</td>\n",
              "      <td>0</td>\n",
              "    </tr>\n",
              "  </tbody>\n",
              "</table>\n",
              "</div>"
            ],
            "text/plain": [
              "                           name      year  ...  Test Drive Car  Third Owner\n",
              "0        Maruti Swift Dzire VDI  0.837838  ...               0            0\n",
              "1  Skoda Rapid 1.5 TDI Ambition  0.837838  ...               0            0\n",
              "2      Honda City 2017-2020 EXi  0.621622  ...               0            1\n",
              "3     Hyundai i20 Sportz Diesel  0.729730  ...               0            0\n",
              "4        Maruti Swift VXI BSIII  0.648649  ...               0            0\n",
              "\n",
              "[5 rows x 17 columns]"
            ]
          },
          "metadata": {},
          "execution_count": 20
        }
      ]
    },
    {
      "cell_type": "code",
      "metadata": {
        "id": "XHdzrIlV3baN"
      },
      "source": [
        "x = car.drop(['name','selling_price'],axis=1)\n",
        "y = car['selling_price']"
      ],
      "execution_count": 21,
      "outputs": []
    },
    {
      "cell_type": "markdown",
      "metadata": {
        "id": "UPQKmE9BRaDO"
      },
      "source": [
        "# *Split Data*"
      ]
    },
    {
      "cell_type": "code",
      "metadata": {
        "id": "aq0K1oOuWkMw"
      },
      "source": [
        "from sklearn.model_selection import train_test_split\n",
        "x_train, x_test, y_train, y_test = train_test_split(x,y, test_size = 0.1, random_state = 2)"
      ],
      "execution_count": 22,
      "outputs": []
    },
    {
      "cell_type": "markdown",
      "metadata": {
        "id": "ocyzVLOc5K6D"
      },
      "source": [
        "**Model Training**"
      ]
    },
    {
      "cell_type": "code",
      "metadata": {
        "id": "iLqTMiKd5IWH"
      },
      "source": [
        "# loading the linear regression model\n",
        "lin_reg_model = LinearRegression()"
      ],
      "execution_count": 23,
      "outputs": []
    },
    {
      "cell_type": "code",
      "metadata": {
        "colab": {
          "base_uri": "https://localhost:8080/"
        },
        "id": "lcWcMigeQEZ8",
        "outputId": "5657dd07-c47f-459c-a24a-523ddf94dc02"
      },
      "source": [
        "lin_reg_model.fit(x_train,y_train)"
      ],
      "execution_count": 24,
      "outputs": [
        {
          "output_type": "execute_result",
          "data": {
            "text/plain": [
              "LinearRegression()"
            ]
          },
          "metadata": {},
          "execution_count": 24
        }
      ]
    },
    {
      "cell_type": "markdown",
      "metadata": {
        "id": "XB7PuuTM5nu_"
      },
      "source": [
        "**Model Evaluation**"
      ]
    },
    {
      "cell_type": "code",
      "metadata": {
        "id": "u8Wu4xMD5iW8"
      },
      "source": [
        "# prediction on Training data\n",
        "y_pred_train = lin_reg_model.predict(x_train)\n",
        "y_pred_test=lin_reg_model.predict(x_test)"
      ],
      "execution_count": 25,
      "outputs": []
    },
    {
      "cell_type": "code",
      "metadata": {
        "colab": {
          "base_uri": "https://localhost:8080/"
        },
        "id": "zqwOqOt_Tpk3",
        "outputId": "c4ac06bb-c8dc-4503-9476-38f511ff7b49"
      },
      "source": [
        "#Training Accuracies\n",
        "rmse = mt.sqrt(mean_squared_error(y_train, y_pred_train)) \n",
        "print('Root mean square error', rmse) \n",
        "mse = (mean_squared_error(y_train, y_pred_train)) \n",
        "print('Mean square error', mse) \n",
        "mae=mean_absolute_error(y_train, y_pred_train)\n",
        "print('Mean absolute error', mae)\n",
        "r2_score1=metrics.r2_score(y_train,y_pred_train)\n",
        "print('R squared Error : ',r2_score1)"
      ],
      "execution_count": 26,
      "outputs": [
        {
          "output_type": "stream",
          "name": "stdout",
          "text": [
            "Root mean square error 0.1099195241423976\n",
            "Mean square error 0.01208230178769113\n",
            "Mean absolute error 0.08345934588720037\n",
            "R squared Error :  0.7094638465586383\n"
          ]
        }
      ]
    },
    {
      "cell_type": "code",
      "metadata": {
        "colab": {
          "base_uri": "https://localhost:8080/",
          "height": 424
        },
        "id": "nnFvGAfBVT8x",
        "outputId": "ad7cadc6-fa01-46ec-f35c-e263c6ad27ba"
      },
      "source": [
        "df = pd.DataFrame({'Real Values':y_train, 'Predicted Values':y_pred_train})\n",
        "df"
      ],
      "execution_count": 27,
      "outputs": [
        {
          "output_type": "execute_result",
          "data": {
            "text/html": [
              "<div>\n",
              "<style scoped>\n",
              "    .dataframe tbody tr th:only-of-type {\n",
              "        vertical-align: middle;\n",
              "    }\n",
              "\n",
              "    .dataframe tbody tr th {\n",
              "        vertical-align: top;\n",
              "    }\n",
              "\n",
              "    .dataframe thead th {\n",
              "        text-align: right;\n",
              "    }\n",
              "</style>\n",
              "<table border=\"1\" class=\"dataframe\">\n",
              "  <thead>\n",
              "    <tr style=\"text-align: right;\">\n",
              "      <th></th>\n",
              "      <th>Real Values</th>\n",
              "      <th>Predicted Values</th>\n",
              "    </tr>\n",
              "  </thead>\n",
              "  <tbody>\n",
              "    <tr>\n",
              "      <th>7717</th>\n",
              "      <td>0.559055</td>\n",
              "      <td>0.509569</td>\n",
              "    </tr>\n",
              "    <tr>\n",
              "      <th>4131</th>\n",
              "      <td>0.370079</td>\n",
              "      <td>0.467224</td>\n",
              "    </tr>\n",
              "    <tr>\n",
              "      <th>6219</th>\n",
              "      <td>0.251969</td>\n",
              "      <td>0.312534</td>\n",
              "    </tr>\n",
              "    <tr>\n",
              "      <th>4751</th>\n",
              "      <td>0.389764</td>\n",
              "      <td>0.432178</td>\n",
              "    </tr>\n",
              "    <tr>\n",
              "      <th>1536</th>\n",
              "      <td>0.082678</td>\n",
              "      <td>0.109403</td>\n",
              "    </tr>\n",
              "    <tr>\n",
              "      <th>...</th>\n",
              "      <td>...</td>\n",
              "      <td>...</td>\n",
              "    </tr>\n",
              "    <tr>\n",
              "      <th>3958</th>\n",
              "      <td>0.212599</td>\n",
              "      <td>0.266579</td>\n",
              "    </tr>\n",
              "    <tr>\n",
              "      <th>6310</th>\n",
              "      <td>0.444882</td>\n",
              "      <td>0.344693</td>\n",
              "    </tr>\n",
              "    <tr>\n",
              "      <th>7320</th>\n",
              "      <td>0.291339</td>\n",
              "      <td>0.323767</td>\n",
              "    </tr>\n",
              "    <tr>\n",
              "      <th>2830</th>\n",
              "      <td>0.170079</td>\n",
              "      <td>0.347991</td>\n",
              "    </tr>\n",
              "    <tr>\n",
              "      <th>8105</th>\n",
              "      <td>0.082678</td>\n",
              "      <td>0.000180</td>\n",
              "    </tr>\n",
              "  </tbody>\n",
              "</table>\n",
              "<p>6622 rows × 2 columns</p>\n",
              "</div>"
            ],
            "text/plain": [
              "      Real Values  Predicted Values\n",
              "7717     0.559055          0.509569\n",
              "4131     0.370079          0.467224\n",
              "6219     0.251969          0.312534\n",
              "4751     0.389764          0.432178\n",
              "1536     0.082678          0.109403\n",
              "...           ...               ...\n",
              "3958     0.212599          0.266579\n",
              "6310     0.444882          0.344693\n",
              "7320     0.291339          0.323767\n",
              "2830     0.170079          0.347991\n",
              "8105     0.082678          0.000180\n",
              "\n",
              "[6622 rows x 2 columns]"
            ]
          },
          "metadata": {},
          "execution_count": 27
        }
      ]
    },
    {
      "cell_type": "code",
      "metadata": {
        "colab": {
          "base_uri": "https://localhost:8080/",
          "height": 295
        },
        "id": "EXSgt4nyUtl5",
        "outputId": "58e77059-4089-4c87-f7d1-56c1600c705d"
      },
      "source": [
        "plt.scatter(y_train,y_pred_train)\n",
        "plt.xlabel(\"Actual Price\")\n",
        "plt.ylabel(\"Predicted Price\")\n",
        "plt.title(\" Actual Prices vs Predicted Prices\")\n",
        "plt.show()"
      ],
      "execution_count": 28,
      "outputs": [
        {
          "output_type": "display_data",
          "data": {
            "image/png": "[encoded data removed]",
            "text/plain": [
              "<Figure size 432x288 with 1 Axes>"
            ]
          },
          "metadata": {
            "needs_background": "light"
          }
        }
      ]
    },
    {
      "cell_type": "code",
      "metadata": {
        "colab": {
          "base_uri": "https://localhost:8080/"
        },
        "id": "KC3YRD7YVfSf",
        "outputId": "596c96df-f296-4529-cc35-212171163ae6"
      },
      "source": [
        "#Testing Accuracies\n",
        "rmse = mt.sqrt(mean_squared_error(y_test, y_pred_test)) \n",
        "print('Root mean square error', mse) \n",
        "mse = (mean_squared_error(y_test, y_pred_test)) \n",
        "print('Mean square error', mse) \n",
        "mae=mean_absolute_error(y_test, y_pred_test)\n",
        "print('Mean absolute error', mae)\n",
        "r2_score=metrics.r2_score(y_test,y_pred_test)\n",
        "print('R squared Error : ',r2_score)"
      ],
      "execution_count": 29,
      "outputs": [
        {
          "output_type": "stream",
          "name": "stdout",
          "text": [
            "Root mean square error 0.01208230178769113\n",
            "Mean square error 0.011733398096980962\n",
            "Mean absolute error 0.0814013138396454\n",
            "R squared Error :  0.7026005013807226\n"
          ]
        }
      ]
    },
    {
      "cell_type": "markdown",
      "metadata": {
        "id": "tFhgeyWWU-hA"
      },
      "source": [
        "# *2.Decision Tree Training*"
      ]
    },
    {
      "cell_type": "code",
      "metadata": {
        "colab": {
          "base_uri": "https://localhost:8080/"
        },
        "id": "JtxjUu9TVnmR",
        "outputId": "7ade0782-7e35-4eec-986d-ec686e5edf94"
      },
      "source": [
        "# Fitting Decision Tree Regression to the dataset\n",
        "from sklearn.tree import DecisionTreeRegressor\n",
        "from sklearn import tree\n",
        "from sklearn.tree import plot_tree # tree diagram\n",
        "regressor = DecisionTreeRegressor()\n",
        "regressor.fit(x_train, y_train)"
      ],
      "execution_count": 30,
      "outputs": [
        {
          "output_type": "execute_result",
          "data": {
            "text/plain": [
              "DecisionTreeRegressor()"
            ]
          },
          "metadata": {},
          "execution_count": 30
        }
      ]
    },
    {
      "cell_type": "markdown",
      "metadata": {
        "id": "WpDk6gt7V3Qr"
      },
      "source": [
        "# *Prediction With Decision Tree*"
      ]
    },
    {
      "cell_type": "code",
      "metadata": {
        "colab": {
          "base_uri": "https://localhost:8080/",
          "height": 424
        },
        "id": "D8M2U4HWWJqN",
        "outputId": "d1369650-f964-4b37-ef43-c7a9d6319ac1"
      },
      "source": [
        "#Training Data\n",
        "y_pred_train = regressor.predict(x_train)\n",
        "df = pd.DataFrame({'Real Values':y_train, 'Predicted Values':y_pred_train})\n",
        "df"
      ],
      "execution_count": 31,
      "outputs": [
        {
          "output_type": "execute_result",
          "data": {
            "text/html": [
              "<div>\n",
              "<style scoped>\n",
              "    .dataframe tbody tr th:only-of-type {\n",
              "        vertical-align: middle;\n",
              "    }\n",
              "\n",
              "    .dataframe tbody tr th {\n",
              "        vertical-align: top;\n",
              "    }\n",
              "\n",
              "    .dataframe thead th {\n",
              "        text-align: right;\n",
              "    }\n",
              "</style>\n",
              "<table border=\"1\" class=\"dataframe\">\n",
              "  <thead>\n",
              "    <tr style=\"text-align: right;\">\n",
              "      <th></th>\n",
              "      <th>Real Values</th>\n",
              "      <th>Predicted Values</th>\n",
              "    </tr>\n",
              "  </thead>\n",
              "  <tbody>\n",
              "    <tr>\n",
              "      <th>7717</th>\n",
              "      <td>0.559055</td>\n",
              "      <td>0.559055</td>\n",
              "    </tr>\n",
              "    <tr>\n",
              "      <th>4131</th>\n",
              "      <td>0.370079</td>\n",
              "      <td>0.370079</td>\n",
              "    </tr>\n",
              "    <tr>\n",
              "      <th>6219</th>\n",
              "      <td>0.251969</td>\n",
              "      <td>0.251969</td>\n",
              "    </tr>\n",
              "    <tr>\n",
              "      <th>4751</th>\n",
              "      <td>0.389764</td>\n",
              "      <td>0.389764</td>\n",
              "    </tr>\n",
              "    <tr>\n",
              "      <th>1536</th>\n",
              "      <td>0.082678</td>\n",
              "      <td>0.082678</td>\n",
              "    </tr>\n",
              "    <tr>\n",
              "      <th>...</th>\n",
              "      <td>...</td>\n",
              "      <td>...</td>\n",
              "    </tr>\n",
              "    <tr>\n",
              "      <th>3958</th>\n",
              "      <td>0.212599</td>\n",
              "      <td>0.212599</td>\n",
              "    </tr>\n",
              "    <tr>\n",
              "      <th>6310</th>\n",
              "      <td>0.444882</td>\n",
              "      <td>0.444882</td>\n",
              "    </tr>\n",
              "    <tr>\n",
              "      <th>7320</th>\n",
              "      <td>0.291339</td>\n",
              "      <td>0.279528</td>\n",
              "    </tr>\n",
              "    <tr>\n",
              "      <th>2830</th>\n",
              "      <td>0.170079</td>\n",
              "      <td>0.170079</td>\n",
              "    </tr>\n",
              "    <tr>\n",
              "      <th>8105</th>\n",
              "      <td>0.082678</td>\n",
              "      <td>0.082678</td>\n",
              "    </tr>\n",
              "  </tbody>\n",
              "</table>\n",
              "<p>6622 rows × 2 columns</p>\n",
              "</div>"
            ],
            "text/plain": [
              "      Real Values  Predicted Values\n",
              "7717     0.559055          0.559055\n",
              "4131     0.370079          0.370079\n",
              "6219     0.251969          0.251969\n",
              "4751     0.389764          0.389764\n",
              "1536     0.082678          0.082678\n",
              "...           ...               ...\n",
              "3958     0.212599          0.212599\n",
              "6310     0.444882          0.444882\n",
              "7320     0.291339          0.279528\n",
              "2830     0.170079          0.170079\n",
              "8105     0.082678          0.082678\n",
              "\n",
              "[6622 rows x 2 columns]"
            ]
          },
          "metadata": {},
          "execution_count": 31
        }
      ]
    },
    {
      "cell_type": "code",
      "metadata": {
        "colab": {
          "base_uri": "https://localhost:8080/",
          "height": 424
        },
        "id": "ms5x7NfmV-yn",
        "outputId": "a09ed5ab-5045-479e-b4aa-adf0f1e525ee"
      },
      "source": [
        "#Testing Data\n",
        "y_pred_test = regressor.predict(x_test)\n",
        "df = pd.DataFrame({'Real Values':y_test, 'Predicted Values':y_pred_test})\n",
        "df\n"
      ],
      "execution_count": 32,
      "outputs": [
        {
          "output_type": "execute_result",
          "data": {
            "text/html": [
              "<div>\n",
              "<style scoped>\n",
              "    .dataframe tbody tr th:only-of-type {\n",
              "        vertical-align: middle;\n",
              "    }\n",
              "\n",
              "    .dataframe tbody tr th {\n",
              "        vertical-align: top;\n",
              "    }\n",
              "\n",
              "    .dataframe thead th {\n",
              "        text-align: right;\n",
              "    }\n",
              "</style>\n",
              "<table border=\"1\" class=\"dataframe\">\n",
              "  <thead>\n",
              "    <tr style=\"text-align: right;\">\n",
              "      <th></th>\n",
              "      <th>Real Values</th>\n",
              "      <th>Predicted Values</th>\n",
              "    </tr>\n",
              "  </thead>\n",
              "  <tbody>\n",
              "    <tr>\n",
              "      <th>5501</th>\n",
              "      <td>0.188977</td>\n",
              "      <td>0.370079</td>\n",
              "    </tr>\n",
              "    <tr>\n",
              "      <th>5562</th>\n",
              "      <td>0.087402</td>\n",
              "      <td>0.066929</td>\n",
              "    </tr>\n",
              "    <tr>\n",
              "      <th>5214</th>\n",
              "      <td>0.129922</td>\n",
              "      <td>0.181103</td>\n",
              "    </tr>\n",
              "    <tr>\n",
              "      <th>6604</th>\n",
              "      <td>0.232284</td>\n",
              "      <td>0.488189</td>\n",
              "    </tr>\n",
              "    <tr>\n",
              "      <th>771</th>\n",
              "      <td>0.362205</td>\n",
              "      <td>0.350394</td>\n",
              "    </tr>\n",
              "    <tr>\n",
              "      <th>...</th>\n",
              "      <td>...</td>\n",
              "      <td>...</td>\n",
              "    </tr>\n",
              "    <tr>\n",
              "      <th>2495</th>\n",
              "      <td>0.039371</td>\n",
              "      <td>0.049607</td>\n",
              "    </tr>\n",
              "    <tr>\n",
              "      <th>2735</th>\n",
              "      <td>0.566929</td>\n",
              "      <td>0.527559</td>\n",
              "    </tr>\n",
              "    <tr>\n",
              "      <th>5508</th>\n",
              "      <td>0.409449</td>\n",
              "      <td>0.366142</td>\n",
              "    </tr>\n",
              "    <tr>\n",
              "      <th>3330</th>\n",
              "      <td>0.133072</td>\n",
              "      <td>0.086615</td>\n",
              "    </tr>\n",
              "    <tr>\n",
              "      <th>171</th>\n",
              "      <td>0.212599</td>\n",
              "      <td>0.279528</td>\n",
              "    </tr>\n",
              "  </tbody>\n",
              "</table>\n",
              "<p>736 rows × 2 columns</p>\n",
              "</div>"
            ],
            "text/plain": [
              "      Real Values  Predicted Values\n",
              "5501     0.188977          0.370079\n",
              "5562     0.087402          0.066929\n",
              "5214     0.129922          0.181103\n",
              "6604     0.232284          0.488189\n",
              "771      0.362205          0.350394\n",
              "...           ...               ...\n",
              "2495     0.039371          0.049607\n",
              "2735     0.566929          0.527559\n",
              "5508     0.409449          0.366142\n",
              "3330     0.133072          0.086615\n",
              "171      0.212599          0.279528\n",
              "\n",
              "[736 rows x 2 columns]"
            ]
          },
          "metadata": {},
          "execution_count": 32
        }
      ]
    },
    {
      "cell_type": "markdown",
      "metadata": {
        "id": "2yo-z4dYWZlW"
      },
      "source": [
        "# *Error Computation*"
      ]
    },
    {
      "cell_type": "code",
      "metadata": {
        "colab": {
          "base_uri": "https://localhost:8080/"
        },
        "id": "qJ8vaCFFWhrG",
        "outputId": "8fca752e-4801-4ce8-8b1b-b70626ae52fa"
      },
      "source": [
        "#Training Accuracies\n",
        "rmse = mt.sqrt(mean_squared_error(y_train, y_pred_train)) \n",
        "print('Root mean square error', rmse) \n",
        "mse = (mean_squared_error(y_train, y_pred_train)) \n",
        "print('Mean square error', mse) \n",
        "mae=mean_absolute_error(y_train, y_pred_train)\n",
        "print('Mean absolute error', mae)"
      ],
      "execution_count": 33,
      "outputs": [
        {
          "output_type": "stream",
          "name": "stdout",
          "text": [
            "Root mean square error 0.012779327881618157\n",
            "Mean square error 0.00016331122110590322\n",
            "Mean absolute error 0.0032784872948737873\n"
          ]
        }
      ]
    },
    {
      "cell_type": "code",
      "metadata": {
        "colab": {
          "base_uri": "https://localhost:8080/"
        },
        "id": "yA8rd7nCWxrv",
        "outputId": "1bba9634-da52-4f41-a2ee-1f50e17aeb88"
      },
      "source": [
        "#Testing Accuracies\n",
        "rmse = mt.sqrt(mean_squared_error(y_test, y_pred_test)) \n",
        "print('Root mean square error', rmse) \n",
        "mse = (mean_squared_error(y_test, y_pred_test)) \n",
        "print('Mean square error', mse) \n",
        "mae=mean_absolute_error(y_test, y_pred_test)\n",
        "print('Mean absolute error', mae)"
      ],
      "execution_count": 34,
      "outputs": [
        {
          "output_type": "stream",
          "name": "stdout",
          "text": [
            "Root mean square error 0.08849617960396348\n",
            "Mean square error 0.007831573804496963\n",
            "Mean absolute error 0.05361766415332848\n"
          ]
        }
      ]
    }
  ]
}