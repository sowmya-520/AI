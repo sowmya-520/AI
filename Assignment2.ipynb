{
  "nbformat": 4,
  "nbformat_minor": 0,
  "metadata": {
    "colab": {
      "name": "Assignment2.ipynb",
      "provenance": [],
      "collapsed_sections": [],
      "authorship_tag": "ABX9TyNmw6TAdhToQHbcT5SymOHX",
      "include_colab_link": true
    },
    "kernelspec": {
      "name": "python3",
      "display_name": "Python 3"
    },
    "language_info": {
      "name": "python"
    }
  },
  "cells": [
    {
      "cell_type": "markdown",
      "metadata": {
        "id": "view-in-github",
        "colab_type": "text"
      },
      "source": [
        "<a href=\"https://colab.research.google.com/github/sowmya-520/AI/blob/main/Assignment2.ipynb\" target=\"_parent\"><img src=\"https://colab.research.google.com/assets/colab-badge.svg\" alt=\"Open In Colab\"/></a>"
      ]
    },
    {
      "cell_type": "code",
      "metadata": {
        "colab": {
          "base_uri": "https://localhost:8080/"
        },
        "id": "GJ9Au-PYSn38",
        "outputId": "6a8eeb34-5083-439f-8b6e-cf868ead4e0c"
      },
      "source": [
        "import numpy as np\n",
        "x=np.random.uniform(-20,20)\n",
        "eta=0.001\n",
        "iter_max=10000\n",
        "iter=1\n",
        "while iter<=iter_max:\n",
        "  slope=4*x*x*x + 6*x\n",
        "  step_length=-eta*slope\n",
        "  x=x+step_length\n",
        "  iter=iter+1\n",
        "print(\"value of x :\",round(x))\n",
        "x=round(x)\n",
        "obj=x*x*x*x+3*x*x+10\n",
        "print(\"objective function value =\",obj)"
      ],
      "execution_count": null,
      "outputs": [
        {
          "output_type": "stream",
          "name": "stdout",
          "text": [
            "value of x : 0\n",
            "objective function value = 10\n"
          ]
        }
      ]
    },
    {
      "cell_type": "markdown",
      "metadata": {
        "id": "xztV6sVOgMlI"
      },
      "source": [
        "\n",
        "![picture](https://drive.google.com/uc?export=view&id=17_bQHJSzH5oEBChD8wtjq7a9YgDgJIq3)"
      ]
    }
  ]
}