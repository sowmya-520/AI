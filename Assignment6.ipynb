{
  "nbformat": 4,
  "nbformat_minor": 0,
  "metadata": {
    "colab": {
      "name": "Assignment6.ipynb",
      "provenance": [],
      "collapsed_sections": [],
      "authorship_tag": "ABX9TyNr1HNYP6oNIbO1pSaVQJJZ",
      "include_colab_link": true
    },
    "kernelspec": {
      "display_name": "Python 3",
      "name": "python3"
    },
    "language_info": {
      "name": "python"
    }
  },
  "cells": [
    {
      "cell_type": "markdown",
      "metadata": {
        "id": "view-in-github",
        "colab_type": "text"
      },
      "source": [
        "<a href=\"https://colab.research.google.com/github/sowmya-520/AI/blob/main/Assignment6.ipynb\" target=\"_parent\"><img src=\"https://colab.research.google.com/assets/colab-badge.svg\" alt=\"Open In Colab\"/></a>"
      ]
    },
    {
      "cell_type": "markdown",
      "metadata": {
        "id": "0UPTwtzoHodW"
      },
      "source": [
        "                                Assignment 6\n",
        "Estimate the bicarbonates of well water based on its pH value using polynomial regression model. Consider SGD optimizer.\n",
        "\n",
        "Do the manual calculation for one iteration by taking only first two samples in the dataset\n",
        "* Write the python code to build simple linear regression model using SGD optimizer\n",
        "*Do the data normalization\n",
        "* Split the data for train and test (90:10)\n",
        "* Train the simple linear regression model using SGD with training data\n",
        "* compute MSE, RMSE and MAE with training data and testing data"
      ]
    },
    {
      "cell_type": "markdown",
      "metadata": {
        "id": "IOMknQpdIYnQ"
      },
      "source": [
        "**Mount Google Drive**"
      ]
    },
    {
      "cell_type": "code",
      "metadata": {
        "colab": {
          "base_uri": "https://localhost:8080/"
        },
        "id": "mYa_yC51JvV1",
        "outputId": "7e1b12f8-b723-421e-d8a4-40df9c62a75b"
      },
      "source": [
        "from google.colab import drive\n",
        "drive.mount('/content/drive')"
      ],
      "execution_count": 207,
      "outputs": [
        {
          "output_type": "stream",
          "name": "stdout",
          "text": [
            "Drive already mounted at /content/drive; to attempt to forcibly remount, call drive.mount(\"/content/drive\", force_remount=True).\n"
          ]
        }
      ]
    },
    {
      "cell_type": "markdown",
      "metadata": {
        "id": "sASz2UhdKGH-"
      },
      "source": [
        "**Import Libraries**"
      ]
    },
    {
      "cell_type": "code",
      "metadata": {
        "id": "GerMczoEKGYr"
      },
      "source": [
        "import numpy as np\n",
        "import matplotlib.pyplot as plt\n",
        "import pandas as pd\n",
        "import random\n",
        "from sklearn.metrics import mean_squared_error\n",
        "from sklearn.metrics import mean_absolute_error\n",
        "from sklearn.model_selection import train_test_split\n",
        "from sklearn import metrics\n",
        "from scipy.stats import zscore\n",
        "import math as mt"
      ],
      "execution_count": 208,
      "outputs": []
    },
    {
      "cell_type": "markdown",
      "metadata": {
        "id": "p3O1-DrwKQew"
      },
      "source": [
        "**Load Data**"
      ]
    },
    {
      "cell_type": "code",
      "metadata": {
        "colab": {
          "base_uri": "https://localhost:8080/",
          "height": 204
        },
        "id": "ea9vysSAKQu4",
        "outputId": "b810e609-487d-47fe-854c-f333fe273178"
      },
      "source": [
        "# loading the data from csv file to pandas dataframe\n",
        "data = pd.read_csv('/content/drive/MyDrive/slr09 (2).csv')\n",
        "#Displaying the first five rows in table\n",
        "data.head()"
      ],
      "execution_count": 209,
      "outputs": [
        {
          "output_type": "execute_result",
          "data": {
            "text/html": [
              "<div>\n",
              "<style scoped>\n",
              "    .dataframe tbody tr th:only-of-type {\n",
              "        vertical-align: middle;\n",
              "    }\n",
              "\n",
              "    .dataframe tbody tr th {\n",
              "        vertical-align: top;\n",
              "    }\n",
              "\n",
              "    .dataframe thead th {\n",
              "        text-align: right;\n",
              "    }\n",
              "</style>\n",
              "<table border=\"1\" class=\"dataframe\">\n",
              "  <thead>\n",
              "    <tr style=\"text-align: right;\">\n",
              "      <th></th>\n",
              "      <th>X</th>\n",
              "      <th>Y</th>\n",
              "    </tr>\n",
              "  </thead>\n",
              "  <tbody>\n",
              "    <tr>\n",
              "      <th>0</th>\n",
              "      <td>7.6</td>\n",
              "      <td>157</td>\n",
              "    </tr>\n",
              "    <tr>\n",
              "      <th>1</th>\n",
              "      <td>7.1</td>\n",
              "      <td>174</td>\n",
              "    </tr>\n",
              "    <tr>\n",
              "      <th>2</th>\n",
              "      <td>8.2</td>\n",
              "      <td>175</td>\n",
              "    </tr>\n",
              "    <tr>\n",
              "      <th>3</th>\n",
              "      <td>7.5</td>\n",
              "      <td>188</td>\n",
              "    </tr>\n",
              "    <tr>\n",
              "      <th>4</th>\n",
              "      <td>7.4</td>\n",
              "      <td>171</td>\n",
              "    </tr>\n",
              "  </tbody>\n",
              "</table>\n",
              "</div>"
            ],
            "text/plain": [
              "     X    Y\n",
              "0  7.6  157\n",
              "1  7.1  174\n",
              "2  8.2  175\n",
              "3  7.5  188\n",
              "4  7.4  171"
            ]
          },
          "metadata": {},
          "execution_count": 209
        }
      ]
    },
    {
      "cell_type": "markdown",
      "metadata": {
        "id": "3xs_pDFkOVa0"
      },
      "source": [
        "**Outliers Detection**"
      ]
    },
    {
      "cell_type": "code",
      "metadata": {
        "id": "1gLtOjN6OVzI"
      },
      "source": [
        "outliers = []\n",
        "def outliers_detection(data):\n",
        "    thres = 3\n",
        "    mean = np.mean(data)\n",
        "    std = np.std(data)\n",
        "    # print(mean, std)\n",
        "    for i in data:\n",
        "        z_score = (i-mean)/std\n",
        "        if (np.abs(z_score) > thres):\n",
        "            outliers.append(i)\n",
        "    return outliers"
      ],
      "execution_count": 210,
      "outputs": []
    },
    {
      "cell_type": "code",
      "metadata": {
        "colab": {
          "base_uri": "https://localhost:8080/"
        },
        "id": "SZXbl8LUO6_7",
        "outputId": "6f2b9ac8-6e4d-43c6-b97c-4bc80314dbca"
      },
      "source": [
        "sample_outliers_X = detect_outliers_zscore(data['X'])\n",
        "sample_outliers_Y = detect_outliers_zscore(data['Y'])\n",
        "print(\"Outliers in X column from Z-scores method: \", sample_outliers_X)\n",
        "print(\"Outliers in Y column from Z-scores method: \", sample_outliers_Y)"
      ],
      "execution_count": 211,
      "outputs": [
        {
          "output_type": "stream",
          "name": "stdout",
          "text": [
            "Outliers in X column from Z-scores method:  []\n",
            "Outliers in Y column from Z-scores method:  []\n"
          ]
        }
      ]
    },
    {
      "cell_type": "markdown",
      "metadata": {
        "id": "imATHDEnTCiK"
      },
      "source": [
        "**Outlier Treatement**"
      ]
    },
    {
      "cell_type": "code",
      "metadata": {
        "colab": {
          "base_uri": "https://localhost:8080/",
          "height": 1000
        },
        "id": "yxCtZGXngDbv",
        "outputId": "ef84daf7-e4da-4b71-8fca-73748d57b484"
      },
      "source": [
        "zX=np.abs(zscore(data['X']))\n",
        "zY=np.abs(zscore(data['Y'])) \n",
        "data['z_score_X']=zX \n",
        "data['z_score_Y']=zY\n",
        "outliersX=len(data[data['z_score_X']>3]) \n",
        "outliersY=len(data[data['z_score_Y']>3])\n",
        "data_z = data[data['z_score_X']<3] \n",
        "data=data_z.drop(['z_score_X', 'z_score_Y'], axis=1) \n",
        "data"
      ],
      "execution_count": 212,
      "outputs": [
        {
          "output_type": "execute_result",
          "data": {
            "text/html": [
              "<div>\n",
              "<style scoped>\n",
              "    .dataframe tbody tr th:only-of-type {\n",
              "        vertical-align: middle;\n",
              "    }\n",
              "\n",
              "    .dataframe tbody tr th {\n",
              "        vertical-align: top;\n",
              "    }\n",
              "\n",
              "    .dataframe thead th {\n",
              "        text-align: right;\n",
              "    }\n",
              "</style>\n",
              "<table border=\"1\" class=\"dataframe\">\n",
              "  <thead>\n",
              "    <tr style=\"text-align: right;\">\n",
              "      <th></th>\n",
              "      <th>X</th>\n",
              "      <th>Y</th>\n",
              "    </tr>\n",
              "  </thead>\n",
              "  <tbody>\n",
              "    <tr>\n",
              "      <th>0</th>\n",
              "      <td>7.6</td>\n",
              "      <td>157</td>\n",
              "    </tr>\n",
              "    <tr>\n",
              "      <th>1</th>\n",
              "      <td>7.1</td>\n",
              "      <td>174</td>\n",
              "    </tr>\n",
              "    <tr>\n",
              "      <th>2</th>\n",
              "      <td>8.2</td>\n",
              "      <td>175</td>\n",
              "    </tr>\n",
              "    <tr>\n",
              "      <th>3</th>\n",
              "      <td>7.5</td>\n",
              "      <td>188</td>\n",
              "    </tr>\n",
              "    <tr>\n",
              "      <th>4</th>\n",
              "      <td>7.4</td>\n",
              "      <td>171</td>\n",
              "    </tr>\n",
              "    <tr>\n",
              "      <th>5</th>\n",
              "      <td>7.8</td>\n",
              "      <td>143</td>\n",
              "    </tr>\n",
              "    <tr>\n",
              "      <th>6</th>\n",
              "      <td>7.3</td>\n",
              "      <td>217</td>\n",
              "    </tr>\n",
              "    <tr>\n",
              "      <th>7</th>\n",
              "      <td>8.0</td>\n",
              "      <td>190</td>\n",
              "    </tr>\n",
              "    <tr>\n",
              "      <th>8</th>\n",
              "      <td>7.1</td>\n",
              "      <td>142</td>\n",
              "    </tr>\n",
              "    <tr>\n",
              "      <th>9</th>\n",
              "      <td>7.5</td>\n",
              "      <td>190</td>\n",
              "    </tr>\n",
              "    <tr>\n",
              "      <th>10</th>\n",
              "      <td>8.1</td>\n",
              "      <td>215</td>\n",
              "    </tr>\n",
              "    <tr>\n",
              "      <th>11</th>\n",
              "      <td>7.0</td>\n",
              "      <td>199</td>\n",
              "    </tr>\n",
              "    <tr>\n",
              "      <th>12</th>\n",
              "      <td>7.3</td>\n",
              "      <td>262</td>\n",
              "    </tr>\n",
              "    <tr>\n",
              "      <th>13</th>\n",
              "      <td>7.8</td>\n",
              "      <td>105</td>\n",
              "    </tr>\n",
              "    <tr>\n",
              "      <th>14</th>\n",
              "      <td>7.3</td>\n",
              "      <td>121</td>\n",
              "    </tr>\n",
              "    <tr>\n",
              "      <th>15</th>\n",
              "      <td>8.0</td>\n",
              "      <td>81</td>\n",
              "    </tr>\n",
              "    <tr>\n",
              "      <th>16</th>\n",
              "      <td>8.5</td>\n",
              "      <td>82</td>\n",
              "    </tr>\n",
              "    <tr>\n",
              "      <th>17</th>\n",
              "      <td>7.1</td>\n",
              "      <td>210</td>\n",
              "    </tr>\n",
              "    <tr>\n",
              "      <th>18</th>\n",
              "      <td>8.2</td>\n",
              "      <td>202</td>\n",
              "    </tr>\n",
              "    <tr>\n",
              "      <th>19</th>\n",
              "      <td>7.9</td>\n",
              "      <td>155</td>\n",
              "    </tr>\n",
              "    <tr>\n",
              "      <th>20</th>\n",
              "      <td>7.6</td>\n",
              "      <td>157</td>\n",
              "    </tr>\n",
              "    <tr>\n",
              "      <th>21</th>\n",
              "      <td>8.8</td>\n",
              "      <td>147</td>\n",
              "    </tr>\n",
              "    <tr>\n",
              "      <th>22</th>\n",
              "      <td>7.2</td>\n",
              "      <td>133</td>\n",
              "    </tr>\n",
              "    <tr>\n",
              "      <th>23</th>\n",
              "      <td>7.9</td>\n",
              "      <td>53</td>\n",
              "    </tr>\n",
              "    <tr>\n",
              "      <th>24</th>\n",
              "      <td>8.1</td>\n",
              "      <td>56</td>\n",
              "    </tr>\n",
              "    <tr>\n",
              "      <th>25</th>\n",
              "      <td>7.7</td>\n",
              "      <td>113</td>\n",
              "    </tr>\n",
              "    <tr>\n",
              "      <th>26</th>\n",
              "      <td>8.4</td>\n",
              "      <td>35</td>\n",
              "    </tr>\n",
              "    <tr>\n",
              "      <th>27</th>\n",
              "      <td>7.4</td>\n",
              "      <td>125</td>\n",
              "    </tr>\n",
              "    <tr>\n",
              "      <th>28</th>\n",
              "      <td>7.3</td>\n",
              "      <td>76</td>\n",
              "    </tr>\n",
              "    <tr>\n",
              "      <th>29</th>\n",
              "      <td>8.5</td>\n",
              "      <td>48</td>\n",
              "    </tr>\n",
              "    <tr>\n",
              "      <th>30</th>\n",
              "      <td>7.8</td>\n",
              "      <td>147</td>\n",
              "    </tr>\n",
              "    <tr>\n",
              "      <th>31</th>\n",
              "      <td>6.7</td>\n",
              "      <td>117</td>\n",
              "    </tr>\n",
              "    <tr>\n",
              "      <th>32</th>\n",
              "      <td>7.1</td>\n",
              "      <td>182</td>\n",
              "    </tr>\n",
              "    <tr>\n",
              "      <th>33</th>\n",
              "      <td>7.3</td>\n",
              "      <td>87</td>\n",
              "    </tr>\n",
              "  </tbody>\n",
              "</table>\n",
              "</div>"
            ],
            "text/plain": [
              "      X    Y\n",
              "0   7.6  157\n",
              "1   7.1  174\n",
              "2   8.2  175\n",
              "3   7.5  188\n",
              "4   7.4  171\n",
              "5   7.8  143\n",
              "6   7.3  217\n",
              "7   8.0  190\n",
              "8   7.1  142\n",
              "9   7.5  190\n",
              "10  8.1  215\n",
              "11  7.0  199\n",
              "12  7.3  262\n",
              "13  7.8  105\n",
              "14  7.3  121\n",
              "15  8.0   81\n",
              "16  8.5   82\n",
              "17  7.1  210\n",
              "18  8.2  202\n",
              "19  7.9  155\n",
              "20  7.6  157\n",
              "21  8.8  147\n",
              "22  7.2  133\n",
              "23  7.9   53\n",
              "24  8.1   56\n",
              "25  7.7  113\n",
              "26  8.4   35\n",
              "27  7.4  125\n",
              "28  7.3   76\n",
              "29  8.5   48\n",
              "30  7.8  147\n",
              "31  6.7  117\n",
              "32  7.1  182\n",
              "33  7.3   87"
            ]
          },
          "metadata": {},
          "execution_count": 212
        }
      ]
    },
    {
      "cell_type": "markdown",
      "metadata": {
        "id": "iXCsopVvP3c3"
      },
      "source": [
        "**Missing Values Treatment**"
      ]
    },
    {
      "cell_type": "code",
      "metadata": {
        "colab": {
          "base_uri": "https://localhost:8080/"
        },
        "id": "dN5SdLzEQBZA",
        "outputId": "a981aa1f-1355-4016-d322-3fdde920fec2"
      },
      "source": [
        "print(data.isnull().sum())"
      ],
      "execution_count": 213,
      "outputs": [
        {
          "output_type": "stream",
          "name": "stdout",
          "text": [
            "X    0\n",
            "Y    0\n",
            "dtype: int64\n"
          ]
        }
      ]
    },
    {
      "cell_type": "code",
      "metadata": {
        "colab": {
          "base_uri": "https://localhost:8080/",
          "height": 1000
        },
        "id": "D_l9dWesQGiG",
        "outputId": "326be817-6f63-47c6-ffbf-3c320d9350ed"
      },
      "source": [
        "m1=data['X'].mean()\n",
        "m2=data['Y'].mean()\n",
        "data['X'].fillna(value=m1, inplace=True)\n",
        "data['Y'].fillna(value=m2, inplace=True)\n",
        "data"
      ],
      "execution_count": 214,
      "outputs": [
        {
          "output_type": "execute_result",
          "data": {
            "text/html": [
              "<div>\n",
              "<style scoped>\n",
              "    .dataframe tbody tr th:only-of-type {\n",
              "        vertical-align: middle;\n",
              "    }\n",
              "\n",
              "    .dataframe tbody tr th {\n",
              "        vertical-align: top;\n",
              "    }\n",
              "\n",
              "    .dataframe thead th {\n",
              "        text-align: right;\n",
              "    }\n",
              "</style>\n",
              "<table border=\"1\" class=\"dataframe\">\n",
              "  <thead>\n",
              "    <tr style=\"text-align: right;\">\n",
              "      <th></th>\n",
              "      <th>X</th>\n",
              "      <th>Y</th>\n",
              "    </tr>\n",
              "  </thead>\n",
              "  <tbody>\n",
              "    <tr>\n",
              "      <th>0</th>\n",
              "      <td>7.6</td>\n",
              "      <td>157</td>\n",
              "    </tr>\n",
              "    <tr>\n",
              "      <th>1</th>\n",
              "      <td>7.1</td>\n",
              "      <td>174</td>\n",
              "    </tr>\n",
              "    <tr>\n",
              "      <th>2</th>\n",
              "      <td>8.2</td>\n",
              "      <td>175</td>\n",
              "    </tr>\n",
              "    <tr>\n",
              "      <th>3</th>\n",
              "      <td>7.5</td>\n",
              "      <td>188</td>\n",
              "    </tr>\n",
              "    <tr>\n",
              "      <th>4</th>\n",
              "      <td>7.4</td>\n",
              "      <td>171</td>\n",
              "    </tr>\n",
              "    <tr>\n",
              "      <th>5</th>\n",
              "      <td>7.8</td>\n",
              "      <td>143</td>\n",
              "    </tr>\n",
              "    <tr>\n",
              "      <th>6</th>\n",
              "      <td>7.3</td>\n",
              "      <td>217</td>\n",
              "    </tr>\n",
              "    <tr>\n",
              "      <th>7</th>\n",
              "      <td>8.0</td>\n",
              "      <td>190</td>\n",
              "    </tr>\n",
              "    <tr>\n",
              "      <th>8</th>\n",
              "      <td>7.1</td>\n",
              "      <td>142</td>\n",
              "    </tr>\n",
              "    <tr>\n",
              "      <th>9</th>\n",
              "      <td>7.5</td>\n",
              "      <td>190</td>\n",
              "    </tr>\n",
              "    <tr>\n",
              "      <th>10</th>\n",
              "      <td>8.1</td>\n",
              "      <td>215</td>\n",
              "    </tr>\n",
              "    <tr>\n",
              "      <th>11</th>\n",
              "      <td>7.0</td>\n",
              "      <td>199</td>\n",
              "    </tr>\n",
              "    <tr>\n",
              "      <th>12</th>\n",
              "      <td>7.3</td>\n",
              "      <td>262</td>\n",
              "    </tr>\n",
              "    <tr>\n",
              "      <th>13</th>\n",
              "      <td>7.8</td>\n",
              "      <td>105</td>\n",
              "    </tr>\n",
              "    <tr>\n",
              "      <th>14</th>\n",
              "      <td>7.3</td>\n",
              "      <td>121</td>\n",
              "    </tr>\n",
              "    <tr>\n",
              "      <th>15</th>\n",
              "      <td>8.0</td>\n",
              "      <td>81</td>\n",
              "    </tr>\n",
              "    <tr>\n",
              "      <th>16</th>\n",
              "      <td>8.5</td>\n",
              "      <td>82</td>\n",
              "    </tr>\n",
              "    <tr>\n",
              "      <th>17</th>\n",
              "      <td>7.1</td>\n",
              "      <td>210</td>\n",
              "    </tr>\n",
              "    <tr>\n",
              "      <th>18</th>\n",
              "      <td>8.2</td>\n",
              "      <td>202</td>\n",
              "    </tr>\n",
              "    <tr>\n",
              "      <th>19</th>\n",
              "      <td>7.9</td>\n",
              "      <td>155</td>\n",
              "    </tr>\n",
              "    <tr>\n",
              "      <th>20</th>\n",
              "      <td>7.6</td>\n",
              "      <td>157</td>\n",
              "    </tr>\n",
              "    <tr>\n",
              "      <th>21</th>\n",
              "      <td>8.8</td>\n",
              "      <td>147</td>\n",
              "    </tr>\n",
              "    <tr>\n",
              "      <th>22</th>\n",
              "      <td>7.2</td>\n",
              "      <td>133</td>\n",
              "    </tr>\n",
              "    <tr>\n",
              "      <th>23</th>\n",
              "      <td>7.9</td>\n",
              "      <td>53</td>\n",
              "    </tr>\n",
              "    <tr>\n",
              "      <th>24</th>\n",
              "      <td>8.1</td>\n",
              "      <td>56</td>\n",
              "    </tr>\n",
              "    <tr>\n",
              "      <th>25</th>\n",
              "      <td>7.7</td>\n",
              "      <td>113</td>\n",
              "    </tr>\n",
              "    <tr>\n",
              "      <th>26</th>\n",
              "      <td>8.4</td>\n",
              "      <td>35</td>\n",
              "    </tr>\n",
              "    <tr>\n",
              "      <th>27</th>\n",
              "      <td>7.4</td>\n",
              "      <td>125</td>\n",
              "    </tr>\n",
              "    <tr>\n",
              "      <th>28</th>\n",
              "      <td>7.3</td>\n",
              "      <td>76</td>\n",
              "    </tr>\n",
              "    <tr>\n",
              "      <th>29</th>\n",
              "      <td>8.5</td>\n",
              "      <td>48</td>\n",
              "    </tr>\n",
              "    <tr>\n",
              "      <th>30</th>\n",
              "      <td>7.8</td>\n",
              "      <td>147</td>\n",
              "    </tr>\n",
              "    <tr>\n",
              "      <th>31</th>\n",
              "      <td>6.7</td>\n",
              "      <td>117</td>\n",
              "    </tr>\n",
              "    <tr>\n",
              "      <th>32</th>\n",
              "      <td>7.1</td>\n",
              "      <td>182</td>\n",
              "    </tr>\n",
              "    <tr>\n",
              "      <th>33</th>\n",
              "      <td>7.3</td>\n",
              "      <td>87</td>\n",
              "    </tr>\n",
              "  </tbody>\n",
              "</table>\n",
              "</div>"
            ],
            "text/plain": [
              "      X    Y\n",
              "0   7.6  157\n",
              "1   7.1  174\n",
              "2   8.2  175\n",
              "3   7.5  188\n",
              "4   7.4  171\n",
              "5   7.8  143\n",
              "6   7.3  217\n",
              "7   8.0  190\n",
              "8   7.1  142\n",
              "9   7.5  190\n",
              "10  8.1  215\n",
              "11  7.0  199\n",
              "12  7.3  262\n",
              "13  7.8  105\n",
              "14  7.3  121\n",
              "15  8.0   81\n",
              "16  8.5   82\n",
              "17  7.1  210\n",
              "18  8.2  202\n",
              "19  7.9  155\n",
              "20  7.6  157\n",
              "21  8.8  147\n",
              "22  7.2  133\n",
              "23  7.9   53\n",
              "24  8.1   56\n",
              "25  7.7  113\n",
              "26  8.4   35\n",
              "27  7.4  125\n",
              "28  7.3   76\n",
              "29  8.5   48\n",
              "30  7.8  147\n",
              "31  6.7  117\n",
              "32  7.1  182\n",
              "33  7.3   87"
            ]
          },
          "metadata": {},
          "execution_count": 214
        }
      ]
    },
    {
      "cell_type": "markdown",
      "metadata": {
        "id": "PB25XWkA5JBt"
      },
      "source": [
        "**Split Data**\n",
        "\n",
        "---\n",
        "\n",
        "\n",
        "> 90%-->training\n",
        "    10%-->Testing\n"
      ]
    },
    {
      "cell_type": "code",
      "metadata": {
        "id": "e6Ra_1x2QOSQ"
      },
      "source": [
        "x_train, x_test, y_train, y_test = train_test_split(data.X, data.Y, test_size = 0.1, random_state = 10)"
      ],
      "execution_count": 215,
      "outputs": []
    },
    {
      "cell_type": "markdown",
      "metadata": {
        "id": "6hmZ5mnRGOnh"
      },
      "source": [
        "**Intialisation**"
      ]
    },
    {
      "cell_type": "code",
      "metadata": {
        "id": "uoLWOhuEQ3yy"
      },
      "source": [
        "m1=random.uniform(-5,5)\n",
        "m2=random.uniform(-5,5)\n",
        "c=random.uniform(-5,5)\n",
        "eta=0.0001\n",
        "max_iter=10"
      ],
      "execution_count": 216,
      "outputs": []
    },
    {
      "cell_type": "markdown",
      "metadata": {
        "id": "zWM4wvlSGSDS"
      },
      "source": [
        "**Gradient Calculation**"
      ]
    },
    {
      "cell_type": "code",
      "metadata": {
        "id": "n5f7-Q8aRMrS"
      },
      "source": [
        "def gradient(m1,m2,c,x,y):\n",
        "  m1_deriv=-1*(y-m1*x*x-m2*x-c)*x*x\n",
        "  m2_deriv=-1*(y-m1*x*x-m2*x-c)*x\n",
        "  c_deriv=-1*(y-m1*x*x-m2*x-c)\n",
        "  return m1_deriv,m2_deriv,c_deriv"
      ],
      "execution_count": 217,
      "outputs": []
    },
    {
      "cell_type": "markdown",
      "metadata": {
        "id": "bgxztHbgRXiv"
      },
      "source": [
        "**Training Using Stochastic Gradient Descent Optimizer**"
      ]
    },
    {
      "cell_type": "code",
      "metadata": {
        "colab": {
          "base_uri": "https://localhost:8080/"
        },
        "id": "L8xeb2UZRbkP",
        "outputId": "df7702e0-e600-4397-c65e-3a101c7d739c"
      },
      "source": [
        "for iter in range(max_iter):\n",
        "  for sample in range(x_train.shape[0]):\n",
        "    del_m1,del_m2,del_c=gradient(m1, m2, c, x_train.iloc[sample], y_train.iloc[sample])\n",
        "    m1=m1-(eta)*del_m1\n",
        "    m2=m2-(eta)*del_m2\n",
        "    c=c-(eta)*del_c\n",
        "print('model parameter m1, m2 and c',m1,m2,c)"
      ],
      "execution_count": 218,
      "outputs": [
        {
          "output_type": "stream",
          "name": "stdout",
          "text": [
            "model parameter m1, m2 and c 2.702721932267279 -1.2740337399392307 -4.839972934304336\n"
          ]
        }
      ]
    },
    {
      "cell_type": "markdown",
      "metadata": {
        "id": "Z1d_CQXuGivK"
      },
      "source": [
        "**Model Prediction on Training Data**"
      ]
    },
    {
      "cell_type": "code",
      "metadata": {
        "id": "XF0S2Aibb_bo"
      },
      "source": [
        "y_pred_train = []\n",
        "for i in x_train:\n",
        "  y_p_tr = (m1 * i*i)+(m2 * i) + c\n",
        "  y_pred_train.append(y_p_tr)\n",
        "y_pred_train = np.array(y_pred_train)"
      ],
      "execution_count": 219,
      "outputs": []
    },
    {
      "cell_type": "markdown",
      "metadata": {
        "id": "fAaKsON1cDsB"
      },
      "source": [
        "**Model Prediction on Testing Data**"
      ]
    },
    {
      "cell_type": "code",
      "metadata": {
        "id": "euiGEuZ-cFl8"
      },
      "source": [
        "y_pred_test = []\n",
        "for i in x_test:\n",
        "  y_p_te = (m1 * i*i)+(m2 * i) + c\n",
        "  y_pred_test.append(y_p_te)\n",
        "y_pred_test = np.array(y_pred_test)"
      ],
      "execution_count": 220,
      "outputs": []
    },
    {
      "cell_type": "markdown",
      "metadata": {
        "id": "DyocDgecHB6Y"
      },
      "source": [
        "**Error Metrics Calculation**"
      ]
    },
    {
      "cell_type": "code",
      "metadata": {
        "colab": {
          "base_uri": "https://localhost:8080/"
        },
        "id": "3R5mqvgEcWvb",
        "outputId": "b992a2be-e795-42c9-e944-668242c2440c"
      },
      "source": [
        "#Training Accuracies\n",
        "rmse = math.sqrt(mean_squared_error(y_train, y_pred_train)) \n",
        "print('Root mean square error', rmse) \n",
        "mse = (mean_squared_error(y_train, y_pred_train)) \n",
        "print('Mean square error', mse) \n",
        "mae=mean_absolute_error(y_train, y_pred_train)\n",
        "print('Mean absolute error', mae)"
      ],
      "execution_count": 221,
      "outputs": [
        {
          "output_type": "stream",
          "name": "stdout",
          "text": [
            "Root mean square error 66.0541760716565\n",
            "Mean square error 4363.154176505397\n",
            "Mean absolute error 52.90976846495025\n"
          ]
        }
      ]
    },
    {
      "cell_type": "code",
      "metadata": {
        "colab": {
          "base_uri": "https://localhost:8080/"
        },
        "id": "Px71mj0jd1Eo",
        "outputId": "8b011a91-89ac-4610-8fc6-c42dae4e9dce"
      },
      "source": [
        "#Testing Accuracies\n",
        "rmse = (mean_squared_error(y_test, y_pred_test)) \n",
        "print('Mean square error', rmse)\n",
        "mse = math.sqrt(mean_squared_error(y_test, y_pred_test)) \n",
        "print('Root mean square error', mse)  \n",
        "mae=mean_absolute_error(y_test, y_pred_test)\n",
        "print('Mean absolute error', mae)"
      ],
      "execution_count": 222,
      "outputs": [
        {
          "output_type": "stream",
          "name": "stdout",
          "text": [
            "Mean square error 2825.8976902036666\n",
            "Root mean square error 53.159173151993876\n",
            "Mean absolute error 37.07250331774357\n"
          ]
        }
      ]
    },
    {
      "cell_type": "markdown",
      "metadata": {
        "id": "bi4fG9OCD7wM"
      },
      "source": [
        "**Save Model For Deployment**"
      ]
    },
    {
      "cell_type": "code",
      "metadata": {
        "id": "735so8pJBRKU",
        "colab": {
          "base_uri": "https://localhost:8080/"
        },
        "outputId": "6666fe4b-aaf4-49e3-b101-633443c9d592"
      },
      "source": [
        "i=(input('enter pH Level : '))\n",
        "Bicarbonate=m1*float(i)*float(i)+m2*float(i)+c\n",
        "print('pH of well water : ',float(i))\n",
        "print('Bicarbonate (parts per million) of well water: ',Bicarbonate)"
      ],
      "execution_count": 223,
      "outputs": [
        {
          "output_type": "stream",
          "name": "stdout",
          "text": [
            "enter pH Level : 5.6\n",
            "pH of well water :  5.6\n",
            "Bicarbonate (parts per million) of well water:  72.78279791793781\n"
          ]
        }
      ]
    }
  ]
}