{
  "nbformat": 4,
  "nbformat_minor": 0,
  "metadata": {
    "colab": {
      "name": "Assignment3.ipynb",
      "provenance": [],
      "authorship_tag": "ABX9TyO3115NA1JAWSG3WzguVK8X",
      "include_colab_link": true
    },
    "kernelspec": {
      "name": "python3",
      "display_name": "Python 3"
    },
    "language_info": {
      "name": "python"
    }
  },
  "cells": [
    {
      "cell_type": "markdown",
      "metadata": {
        "id": "view-in-github",
        "colab_type": "text"
      },
      "source": [
        "<a href=\"https://colab.research.google.com/github/sowmya-520/AI/blob/main/Assignment3.ipynb\" target=\"_parent\"><img src=\"https://colab.research.google.com/assets/colab-badge.svg\" alt=\"Open In Colab\"/></a>"
      ]
    },
    {
      "cell_type": "code",
      "metadata": {
        "colab": {
          "base_uri": "https://localhost:8080/"
        },
        "id": "9LU0FXP4l3oV",
        "outputId": "dfe6c724-df09-45ff-ecc5-2a0401563482"
      },
      "source": [
        "import numpy as np\n",
        "import math\n",
        "x=np.random.uniform(-100,100)\n",
        "y=np.random.uniform(-100,100)\n",
        "eta=0.001\n",
        "iter_max=10000\n",
        "i=1\n",
        "for i in range(iter_max):\n",
        "   slope_x = 6*x\n",
        "   slope_y = -5*math.exp(-y)\n",
        "   x_steplength= -eta*slope_x\n",
        "   y_steplength= -eta*slope_y\n",
        "   x=x+ x_steplength\n",
        "   y=y+ y_steplength\n",
        "print(\"value of x : \",round(x))\n",
        "print(\"value of y : \",round(y))\n",
        "x=round(x)\n",
        "y=round(y)\n",
        "obj=3 * x**2+5* math.exp(-y)+10\n",
        "print(\"objective function value :\",obj)\n",
        "\n"
      ],
      "execution_count": null,
      "outputs": [
        {
          "output_type": "stream",
          "name": "stdout",
          "text": [
            "value of x :  0\n",
            "value of y :  74\n",
            "objective function value : 10.0\n"
          ]
        }
      ]
    },
    {
      "cell_type": "markdown",
      "metadata": {
        "id": "OJLeLqMT7dB5"
      },
      "source": [
        "![picture](https://drive.google.com/uc?export=view&id=1lKFMHWTH2eUzkkHYXEw_NNhR-gwu1HXo)"
      ]
    }
  ]
}