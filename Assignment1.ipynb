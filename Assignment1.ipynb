{
  "nbformat": 4,
  "nbformat_minor": 0,
  "metadata": {
    "colab": {
      "name": "Assignment1.ipynb",
      "provenance": [],
      "collapsed_sections": [],
      "authorship_tag": "ABX9TyMNin0YljNafV7a70KLJQkE",
      "include_colab_link": true
    },
    "kernelspec": {
      "name": "python3",
      "display_name": "Python 3"
    },
    "language_info": {
      "name": "python"
    }
  },
  "cells": [
    {
      "cell_type": "markdown",
      "metadata": {
        "id": "view-in-github",
        "colab_type": "text"
      },
      "source": [
        "<a href=\"https://colab.research.google.com/github/sowmya-520/AI/blob/main/Assignment1.ipynb\" target=\"_parent\"><img src=\"https://colab.research.google.com/assets/colab-badge.svg\" alt=\"Open In Colab\"/></a>"
      ]
    },
    {
      "cell_type": "code",
      "metadata": {
        "colab": {
          "base_uri": "https://localhost:8080/"
        },
        "id": "GvVLoYyHNYwF",
        "outputId": "253d7e9f-bbc2-4bb3-fa2a-48665ea57ce2"
      },
      "source": [
        "#Assignment-1\n",
        "#Roll no: 19K41A0520\n",
        "from scipy.optimize import linprog     \n",
        "obj=[-50,-120]                         #objective function\n",
        "A_ieq=[[7000,2000],[10,30],[1,1]]      #inequality Constraints coeff. matrix\n",
        "b_ieq=[700000,1200,110]                #inequality Constraints cont. matrix\n",
        "boundary=[(0,float('inf')),(0,float('inf'))]    #limits for a and b\n",
        "opt=linprog(c=obj,A_ub=A_ieq,b_ub=b_ieq,A_eq=None,b_eq=None,method=\"Simplex\")\n",
        "opt.x\n",
        "print('No. of hectares for wheat production : ',round(opt.x[0]))\n",
        "print('No. of hectares for barley production : ',round(opt.x[1]))"
      ],
      "execution_count": 2,
      "outputs": [
        {
          "output_type": "stream",
          "text": [
            "No. of hectares for wheat production :  98\n",
            "No. of hectares for barley production :  7\n"
          ],
          "name": "stdout"
        }
      ]
    }
  ]
}